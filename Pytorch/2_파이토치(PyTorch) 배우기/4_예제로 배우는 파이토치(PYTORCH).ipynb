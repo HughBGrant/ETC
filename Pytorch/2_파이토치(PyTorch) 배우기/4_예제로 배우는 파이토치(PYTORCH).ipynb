{
 "cells": [
  {
   "attachments": {},
   "cell_type": "markdown",
   "metadata": {},
   "source": [
    "# 예제로 배우는 파이토치(PYTORCH)"
   ]
  },
  {
   "attachments": {},
   "cell_type": "markdown",
   "metadata": {},
   "source": [
    "## 텐서(Tensor)"
   ]
  },
  {
   "attachments": {},
   "cell_type": "markdown",
   "metadata": {},
   "source": [
    "### 준비 운동: numpy"
   ]
  },
  {
   "cell_type": "code",
   "execution_count": 1,
   "metadata": {},
   "outputs": [],
   "source": [
    "import numpy as np\n",
    "import math\n",
    "import torch"
   ]
  },
  {
   "cell_type": "code",
   "execution_count": 2,
   "metadata": {},
   "outputs": [
    {
     "name": "stdout",
     "output_type": "stream",
     "text": [
      "99 1320.1638563279123\n",
      "199 930.0330805416091\n",
      "299 656.2476044402856\n",
      "399 464.01702895314463\n",
      "499 328.98595469328416\n",
      "599 234.0930178378992\n",
      "699 167.3796217745312\n",
      "799 120.45922518271377\n",
      "899 87.4473181163029\n",
      "999 64.21293747443735\n",
      "1099 47.85476644261565\n",
      "1199 36.33420791443178\n",
      "1299 28.218249257626088\n",
      "1399 22.499167085314514\n",
      "1499 18.46804327523259\n",
      "1599 15.625987203057434\n",
      "1699 13.621793933140166\n",
      "1799 12.20814659530625\n",
      "1899 11.210833631228125\n",
      "1999 10.507104652243981\n",
      "Result: y = -0.04278224136563915 + 0.8494464169580543 x + 0.007380648535141943 x^2 + -0.09229282044605772 x^3\n"
     ]
    }
   ],
   "source": [
    "x = np.linspace(-math.pi, math.pi, 2000)\n",
    "y = np.sin(x)\n",
    "\n",
    "a = np.random.randn()\n",
    "b = np.random.randn()\n",
    "c = np.random.randn()\n",
    "d = np.random.randn()\n",
    "\n",
    "learning_rate = 1e-6\n",
    "for t in range(2000):\n",
    "    y_pred = a + b * x + c * x ** 2 + d * x ** 3\n",
    "\n",
    "    loss = np.square(y_pred - y).sum()\n",
    "    if t % 100 == 99:\n",
    "        print(t, loss)\n",
    "\n",
    "    grad_y_pred = 2.0 * (y_pred - y)\n",
    "    grad_a = grad_y_pred.sum()\n",
    "    grad_b = (grad_y_pred * x).sum()\n",
    "    grad_c = (grad_y_pred * x ** 2).sum()\n",
    "    grad_d = (grad_y_pred * x ** 3).sum()\n",
    "\n",
    "    a -= learning_rate * grad_a\n",
    "    b -= learning_rate * grad_b\n",
    "    c -= learning_rate * grad_c\n",
    "    d -= learning_rate * grad_d\n",
    "\n",
    "print(f'Result: y = {a} + {b} x + {c} x^2 + {d} x^3')"
   ]
  },
  {
   "cell_type": "code",
   "execution_count": 3,
   "metadata": {},
   "outputs": [
    {
     "name": "stdout",
     "output_type": "stream",
     "text": [
      "99 1797.0413818359375\n",
      "199 1212.5535888671875\n",
      "299 819.8427124023438\n",
      "399 555.761474609375\n",
      "499 378.0229797363281\n",
      "599 258.28955078125\n",
      "699 177.55615234375\n",
      "799 123.06745147705078\n",
      "899 86.25582885742188\n",
      "999 61.36128616333008\n",
      "1099 44.50870132446289\n",
      "1199 33.088157653808594\n",
      "1299 25.34046173095703\n",
      "1399 20.0787296295166\n",
      "1499 16.50126075744629\n",
      "1599 14.06628704071045\n",
      "1699 12.407039642333984\n",
      "1799 11.275111198425293\n",
      "1899 10.502020835876465\n",
      "1999 9.973410606384277\n",
      "Result: y = -0.026830444112420082 + 0.8347079157829285 x + 0.0046286978758871555 x^2 + -0.0901964008808136 x^3\n"
     ]
    }
   ],
   "source": [
    "dtype = torch.float\n",
    "device = torch.device(\"cpu\")\n",
    "\n",
    "x = torch.linspace(-math.pi, math.pi, 2000, device=device, dtype=dtype)\n",
    "y = torch.sin(x)\n",
    "\n",
    "a = torch.randn((), device=device, dtype=dtype)\n",
    "b = torch.randn((), device=device, dtype=dtype)\n",
    "c = torch.randn((), device=device, dtype=dtype)\n",
    "d = torch.randn((), device=device, dtype=dtype)\n",
    "\n",
    "learning_rate = 1e-6\n",
    "for t in range(2000):\n",
    "\n",
    "    y_pred = a + b * x + c * x ** 2 + d * x ** 3\n",
    "\n",
    "    loss = (y_pred - y).pow(2).sum().item()\n",
    "    if t % 100 == 99:\n",
    "        print(t, loss)\n",
    "\n",
    "    grad_y_pred = 2.0 * (y_pred - y)\n",
    "    grad_a = grad_y_pred.sum()\n",
    "    grad_b = (grad_y_pred * x).sum()\n",
    "    grad_c = (grad_y_pred * x ** 2).sum()\n",
    "    grad_d = (grad_y_pred * x ** 3).sum()\n",
    "\n",
    "    # 가중치를 갱신합니다.\n",
    "    a -= learning_rate * grad_a\n",
    "    b -= learning_rate * grad_b\n",
    "    c -= learning_rate * grad_c\n",
    "    d -= learning_rate * grad_d\n",
    "\n",
    "print(f'Result: y = {a.item()} + {b.item()} x + {c.item()} x^2 + {d.item()} x^3')"
   ]
  },
  {
   "cell_type": "code",
   "execution_count": 4,
   "metadata": {},
   "outputs": [
    {
     "name": "stdout",
     "output_type": "stream",
     "text": [
      "99 140.69078063964844\n",
      "199 97.72343444824219\n",
      "299 68.81309509277344\n",
      "399 49.343482971191406\n",
      "499 36.21942901611328\n",
      "599 27.36456298828125\n",
      "699 21.38420867919922\n",
      "799 17.34124183654785\n",
      "899 14.605281829833984\n",
      "999 12.751803398132324\n",
      "1099 11.494841575622559\n",
      "1199 10.641478538513184\n",
      "1299 10.061498641967773\n",
      "1399 9.666871070861816\n",
      "1499 9.398067474365234\n",
      "1599 9.214754104614258\n",
      "1699 9.089600563049316\n",
      "1799 9.004056930541992\n",
      "1899 8.945520401000977\n",
      "1999 8.905412673950195\n",
      "Result: y = 0.007595951668918133 + 0.8508480787277222 x     + -0.0013104276731610298 x^2 + -0.09249219298362732 x^3\n"
     ]
    }
   ],
   "source": [
    "x = torch.linspace(-math.pi, math.pi, 2000)\n",
    "y = torch.sin(x)\n",
    "\n",
    "p = torch.tensor([1, 2, 3])\n",
    "xx = x.unsqueeze(-1).pow(p)\n",
    "\n",
    "model = torch.nn.Sequential(\n",
    "    torch.nn.Linear(3, 1),\n",
    "    torch.nn.Flatten(0, 1)\n",
    ")\n",
    "\n",
    "loss_fn = torch.nn.MSELoss(reduction='sum')\n",
    "\n",
    "learning_rate = 1e-6\n",
    "for t in range(2000):\n",
    "    \n",
    "    y_pred = model(xx)\n",
    "\n",
    "    loss = loss_fn(y_pred, y)\n",
    "    if t % 100 == 99:\n",
    "        print(t, loss.item())\n",
    "\n",
    "    model.zero_grad()\n",
    "\n",
    "    loss.backward()\n",
    "\n",
    "    with torch.no_grad():\n",
    "        for param in model.parameters():\n",
    "            param -= learning_rate * param.grad\n",
    "\n",
    "linear_layer = model[0]\n",
    "\n",
    "print(f'Result: y = {linear_layer.bias.item()} + {linear_layer.weight[:, 0].item()} x \\\n",
    "    + {linear_layer.weight[:, 1].item()} x^2 + {linear_layer.weight[:, 2].item()} x^3')\n"
   ]
  }
 ],
 "metadata": {
  "kernelspec": {
   "display_name": "pytorch",
   "language": "python",
   "name": "python3"
  },
  "language_info": {
   "codemirror_mode": {
    "name": "ipython",
    "version": 3
   },
   "file_extension": ".py",
   "mimetype": "text/x-python",
   "name": "python",
   "nbconvert_exporter": "python",
   "pygments_lexer": "ipython3",
   "version": "3.9.13"
  },
  "orig_nbformat": 4,
  "vscode": {
   "interpreter": {
    "hash": "b9c58f221f33673ce589b4e7d0fdf29d26a6eac690fb59f05f47b225446ecd64"
   }
  }
 },
 "nbformat": 4,
 "nbformat_minor": 2
}

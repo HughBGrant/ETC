{
 "cells": [
  {
   "cell_type": "markdown",
   "metadata": {},
   "source": [
    "# 모델 매개변수 최적화하기"
   ]
  },
  {
   "attachments": {},
   "cell_type": "markdown",
   "metadata": {},
   "source": [
    "## 기본(Pre-requisite) 코드"
   ]
  },
  {
   "cell_type": "code",
   "execution_count": 17,
   "metadata": {},
   "outputs": [],
   "source": [
    "import torch\n",
    "from torch import nn\n",
    "from torch.utils.data import DataLoader\n",
    "from torchvision import datasets\n",
    "from torchvision.transforms import ToTensor"
   ]
  },
  {
   "cell_type": "code",
   "execution_count": 18,
   "metadata": {},
   "outputs": [],
   "source": [
    "training_data = datasets.FashionMNIST(\n",
    "    root=\"data\",\n",
    "    train=True,\n",
    "    download=True,\n",
    "    transform=ToTensor()\n",
    ")\n",
    "\n",
    "test_data = datasets.FashionMNIST(\n",
    "    root=\"data\",\n",
    "    train=False,\n",
    "    download=True,\n",
    "    transform=ToTensor()\n",
    ")\n",
    "\n",
    "train_dataloader = DataLoader(training_data, batch_size=64)\n",
    "test_dataloader = DataLoader(test_data, batch_size=64)\n",
    "\n",
    "class NeuralNetwork(nn.Module):\n",
    "    def __init__(self):\n",
    "        super(NeuralNetwork, self).__init__()\n",
    "        self.flatten = nn.Flatten()\n",
    "        self.linear_relu_stack = nn.Sequential(\n",
    "            nn.Linear(28*28, 512),\n",
    "            nn.ReLU(),\n",
    "            nn.Linear(512, 512),\n",
    "            nn.ReLU(),\n",
    "            nn.Linear(512, 10),\n",
    "        )\n",
    "\n",
    "    def forward(self, x):\n",
    "        x = self.flatten(x)\n",
    "        logits = self.linear_relu_stack(x)\n",
    "        return logits\n",
    "\n",
    "model = NeuralNetwork()\n"
   ]
  },
  {
   "attachments": {},
   "cell_type": "markdown",
   "metadata": {},
   "source": [
    "## 하이퍼파라미터(Hyperparameter)"
   ]
  },
  {
   "cell_type": "code",
   "execution_count": 19,
   "metadata": {},
   "outputs": [],
   "source": [
    "learning_rate = 1e-3\n",
    "batch_size = 64\n",
    "epochs = 5"
   ]
  },
  {
   "attachments": {},
   "cell_type": "markdown",
   "metadata": {},
   "source": [
    "## 손실 함수(loss function)"
   ]
  },
  {
   "cell_type": "code",
   "execution_count": 20,
   "metadata": {},
   "outputs": [],
   "source": [
    "loss_fn = nn.CrossEntropyLoss()"
   ]
  },
  {
   "attachments": {},
   "cell_type": "markdown",
   "metadata": {},
   "source": [
    "## 옵티마이저(Optimizer)"
   ]
  },
  {
   "cell_type": "code",
   "execution_count": 21,
   "metadata": {},
   "outputs": [],
   "source": [
    "optimizer = torch.optim.SGD(model.parameters(), lr=learning_rate)"
   ]
  },
  {
   "attachments": {},
   "cell_type": "markdown",
   "metadata": {},
   "source": [
    "## 전체 구현"
   ]
  },
  {
   "cell_type": "code",
   "execution_count": 22,
   "metadata": {},
   "outputs": [],
   "source": [
    "def train_loop(dataloader, model, loss_fn, optimizer):\n",
    "    size = len(dataloader.dataset)\n",
    "    for batch, (X, y) in enumerate(dataloader):\n",
    "        pred = model(X)\n",
    "        loss = loss_fn(pred, y)\n",
    "\n",
    "        optimizer.zero_grad()\n",
    "        loss.backward()\n",
    "        optimizer.step()\n",
    "\n",
    "        if batch % 100 == 0:\n",
    "            loss, current = loss.item(), batch * len(X)\n",
    "            print(f\"loss: {loss:>7f} [{current:>5d}/{size:>5d}]\")\n"
   ]
  },
  {
   "cell_type": "code",
   "execution_count": 23,
   "metadata": {},
   "outputs": [],
   "source": [
    "def test_loop(dataloader, model, loss_fn):\n",
    "    size = len(dataloader.dataset)\n",
    "    num_batches = len(dataloader)\n",
    "    model.eval()\n",
    "    test_loss, correct = 0, 0\n",
    "\n",
    "    with torch.no_grad():\n",
    "        for X, y in dataloader:\n",
    "            pred = model(X)\n",
    "            test_loss += loss_fn(pred, y).item()\n",
    "            correct += (pred.argmax(1) == y).type(torch.float).sum().item()\n",
    "            \n",
    "    test_loss /= num_batches\n",
    "    correct /= size\n",
    "    print(f\"Test Error: \\n Accuracy: {(100*correct):>0.1f}%, Avg_loss: {test_loss:>8f} \\n\")"
   ]
  },
  {
   "cell_type": "code",
   "execution_count": 24,
   "metadata": {},
   "outputs": [
    {
     "name": "stdout",
     "output_type": "stream",
     "text": [
      "Epoch 1\n",
      "----------------------------\n",
      "loss: 2.298429 [    0/60000]\n",
      "loss: 2.283666 [ 6400/60000]\n",
      "loss: 2.268619 [12800/60000]\n",
      "loss: 2.270451 [19200/60000]\n",
      "loss: 2.247594 [25600/60000]\n",
      "loss: 2.215700 [32000/60000]\n",
      "loss: 2.222404 [38400/60000]\n",
      "loss: 2.187713 [44800/60000]\n",
      "loss: 2.170295 [51200/60000]\n",
      "loss: 2.152422 [57600/60000]\n",
      "Test Error: \n",
      " Accuracy: 45.8%, Avg_loss: 2.145942 \n",
      "\n",
      "Epoch 2\n",
      "----------------------------\n",
      "loss: 2.151393 [    0/60000]\n",
      "loss: 2.137103 [ 6400/60000]\n",
      "loss: 2.081078 [12800/60000]\n",
      "loss: 2.104055 [19200/60000]\n",
      "loss: 2.048918 [25600/60000]\n",
      "loss: 1.984249 [32000/60000]\n",
      "loss: 2.010322 [38400/60000]\n",
      "loss: 1.930340 [44800/60000]\n",
      "loss: 1.913237 [51200/60000]\n",
      "loss: 1.849964 [57600/60000]\n",
      "Test Error: \n",
      " Accuracy: 57.3%, Avg_loss: 1.855624 \n",
      "\n",
      "Epoch 3\n",
      "----------------------------\n",
      "loss: 1.887823 [    0/60000]\n",
      "loss: 1.853650 [ 6400/60000]\n",
      "loss: 1.738228 [12800/60000]\n",
      "loss: 1.779973 [19200/60000]\n",
      "loss: 1.676607 [25600/60000]\n",
      "loss: 1.622778 [32000/60000]\n",
      "loss: 1.640519 [38400/60000]\n",
      "loss: 1.548689 [44800/60000]\n",
      "loss: 1.556805 [51200/60000]\n",
      "loss: 1.450536 [57600/60000]\n",
      "Test Error: \n",
      " Accuracy: 62.0%, Avg_loss: 1.483686 \n",
      "\n",
      "Epoch 4\n",
      "----------------------------\n",
      "loss: 1.555428 [    0/60000]\n",
      "loss: 1.517558 [ 6400/60000]\n",
      "loss: 1.371884 [12800/60000]\n",
      "loss: 1.443831 [19200/60000]\n",
      "loss: 1.333470 [25600/60000]\n",
      "loss: 1.325007 [32000/60000]\n",
      "loss: 1.338757 [38400/60000]\n",
      "loss: 1.269156 [44800/60000]\n",
      "loss: 1.291989 [51200/60000]\n",
      "loss: 1.193640 [57600/60000]\n",
      "Test Error: \n",
      " Accuracy: 63.9%, Avg_loss: 1.229505 \n",
      "\n",
      "Epoch 5\n",
      "----------------------------\n",
      "loss: 1.311100 [    0/60000]\n",
      "loss: 1.290232 [ 6400/60000]\n",
      "loss: 1.127224 [12800/60000]\n",
      "loss: 1.231773 [19200/60000]\n",
      "loss: 1.117046 [25600/60000]\n",
      "loss: 1.137220 [32000/60000]\n",
      "loss: 1.160198 [38400/60000]\n",
      "loss: 1.098398 [44800/60000]\n",
      "loss: 1.127121 [51200/60000]\n",
      "loss: 1.046173 [57600/60000]\n",
      "Test Error: \n",
      " Accuracy: 64.9%, Avg_loss: 1.073707 \n",
      "\n",
      "Epoch 6\n",
      "----------------------------\n",
      "loss: 1.148940 [    0/60000]\n",
      "loss: 1.149764 [ 6400/60000]\n",
      "loss: 0.966563 [12800/60000]\n",
      "loss: 1.097993 [19200/60000]\n",
      "loss: 0.984762 [25600/60000]\n",
      "loss: 1.011085 [32000/60000]\n",
      "loss: 1.049420 [38400/60000]\n",
      "loss: 0.989882 [44800/60000]\n",
      "loss: 1.019636 [51200/60000]\n",
      "loss: 0.953083 [57600/60000]\n",
      "Test Error: \n",
      " Accuracy: 65.7%, Avg_loss: 0.972888 \n",
      "\n",
      "Epoch 7\n",
      "----------------------------\n",
      "loss: 1.035801 [    0/60000]\n",
      "loss: 1.058819 [ 6400/60000]\n",
      "loss: 0.856413 [12800/60000]\n",
      "loss: 1.007834 [19200/60000]\n",
      "loss: 0.901825 [25600/60000]\n",
      "loss: 0.922488 [32000/60000]\n",
      "loss: 0.976182 [38400/60000]\n",
      "loss: 0.919532 [44800/60000]\n",
      "loss: 0.945975 [51200/60000]\n",
      "loss: 0.890109 [57600/60000]\n",
      "Test Error: \n",
      " Accuracy: 66.8%, Avg_loss: 0.904165 \n",
      "\n",
      "Epoch 8\n",
      "----------------------------\n",
      "loss: 0.952249 [    0/60000]\n",
      "loss: 0.995506 [ 6400/60000]\n",
      "loss: 0.777813 [12800/60000]\n",
      "loss: 0.943898 [19200/60000]\n",
      "loss: 0.847283 [25600/60000]\n",
      "loss: 0.857611 [32000/60000]\n",
      "loss: 0.924095 [38400/60000]\n",
      "loss: 0.872499 [44800/60000]\n",
      "loss: 0.893017 [51200/60000]\n",
      "loss: 0.844071 [57600/60000]\n",
      "Test Error: \n",
      " Accuracy: 68.0%, Avg_loss: 0.854672 \n",
      "\n",
      "Epoch 9\n",
      "----------------------------\n",
      "loss: 0.887731 [    0/60000]\n",
      "loss: 0.947638 [ 6400/60000]\n",
      "loss: 0.719262 [12800/60000]\n",
      "loss: 0.896444 [19200/60000]\n",
      "loss: 0.808834 [25600/60000]\n",
      "loss: 0.808830 [32000/60000]\n",
      "loss: 0.884307 [38400/60000]\n",
      "loss: 0.839612 [44800/60000]\n",
      "loss: 0.853228 [51200/60000]\n",
      "loss: 0.808428 [57600/60000]\n",
      "Test Error: \n",
      " Accuracy: 69.0%, Avg_loss: 0.817054 \n",
      "\n",
      "Epoch 10\n",
      "----------------------------\n",
      "loss: 0.835922 [    0/60000]\n",
      "loss: 0.908813 [ 6400/60000]\n",
      "loss: 0.673770 [12800/60000]\n",
      "loss: 0.859950 [19200/60000]\n",
      "loss: 0.779655 [25600/60000]\n",
      "loss: 0.771054 [32000/60000]\n",
      "loss: 0.851804 [38400/60000]\n",
      "loss: 0.815287 [44800/60000]\n",
      "loss: 0.822166 [51200/60000]\n",
      "loss: 0.779406 [57600/60000]\n",
      "Test Error: \n",
      " Accuracy: 70.3%, Avg_loss: 0.786981 \n",
      "\n",
      "Done!\n"
     ]
    }
   ],
   "source": [
    "loss_fn = nn.CrossEntropyLoss()\n",
    "optimizer = torch.optim.SGD(model.parameters(), lr=learning_rate)\n",
    "\n",
    "epochs = 10\n",
    "for t in range(epochs):\n",
    "    print(f\"Epoch {t+1}\\n----------------------------\")\n",
    "    train_loop(train_dataloader, model, loss_fn, optimizer)\n",
    "    test_loop(test_dataloader, model, loss_fn)\n",
    "print('Done!')\n",
    "    "
   ]
  }
 ],
 "metadata": {
  "kernelspec": {
   "display_name": "base",
   "language": "python",
   "name": "python3"
  },
  "language_info": {
   "codemirror_mode": {
    "name": "ipython",
    "version": 3
   },
   "file_extension": ".py",
   "mimetype": "text/x-python",
   "name": "python",
   "nbconvert_exporter": "python",
   "pygments_lexer": "ipython3",
   "version": "3.9.13"
  },
  "orig_nbformat": 4,
  "vscode": {
   "interpreter": {
    "hash": "e76908176805cd1f43d0077959698ad43a5b10a4015d2b23b864ac3da32cb183"
   }
  }
 },
 "nbformat": 4,
 "nbformat_minor": 2
}

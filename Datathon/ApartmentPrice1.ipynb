{
 "cells": [
  {
   "cell_type": "markdown",
   "id": "e0b926e4-2067-49a9-8c68-11d54ddd578d",
   "metadata": {
    "tags": []
   },
   "source": [
    "# 0. 프로젝트 정의하기!"
   ]
  },
  {
   "cell_type": "markdown",
   "id": "2192e37e-aed2-4f5a-ae42-d42effa1e1a6",
   "metadata": {},
   "source": []
  },
  {
   "cell_type": "markdown",
   "id": "0e13ae40-2a63-46ad-b585-b44d660c6f83",
   "metadata": {},
   "source": [
    "# 1. 데이터 확인하기!"
   ]
  },
  {
   "cell_type": "code",
   "execution_count": 46,
   "id": "b4a8ff3e-3764-4754-9d0f-06f3ed4cb7b5",
   "metadata": {
    "id": "UEeIR8KHLPRY"
   },
   "outputs": [],
   "source": [
    "import os\n",
    "from os.path import join\n",
    "\n",
    "from tqdm import tqdm #진행률바\n",
    "import re\n",
    "import optuna\n",
    "from optuna.integration import XGBoostPruningCallback\n",
    "\n",
    "import pandas as pd\n",
    "import numpy as np\n",
    "import matplotlib.pyplot as plt\n",
    "import seaborn as sns\n",
    "import bisect\n",
    "\n",
    "from sklearn.preprocessing import  LabelEncoder #문자를 숫자로 인코딩\n",
    "from sklearn.model_selection import TimeSeriesSplit #변수n을 입력, n번의 반복으로 교차검즘을 할 것인지 정하는 것\n",
    "\n",
    "from sklearn.linear_model import LinearRegression, ElasticNet, Lasso, Ridge #선형 모델\n",
    "from sklearn.tree import DecisionTreeRegressor\n",
    "from sklearn.ensemble import RandomForestRegressor\n",
    "from lightgbm import LGBMRegressor\n",
    "\n",
    "from sklearn.model_selection import train_test_split\n",
    "from sklearn.model_selection import GridSearchCV\n",
    "from sklearn.preprocessing import RobustScaler\n",
    "from sklearn.metrics import mean_squared_error"
   ]
  },
  {
   "cell_type": "code",
   "execution_count": 47,
   "id": "568367f5-2a78-4da8-969b-39c001d39391",
   "metadata": {},
   "outputs": [
    {
     "name": "stdout",
     "output_type": "stream",
     "text": [
      "1.4.3\n"
     ]
    }
   ],
   "source": [
    "print(pd.__version__)"
   ]
  },
  {
   "cell_type": "code",
   "execution_count": 48,
   "id": "ae01ab14-c21a-49f9-b30b-2294bca9fe37",
   "metadata": {
    "colab": {
     "base_uri": "https://localhost:8080/"
    },
    "id": "qUedtydHJN_0",
    "outputId": "ee1fb8f1-d96c-40ab-e07b-0a7080577cf8"
   },
   "outputs": [],
   "source": [
    "# 코랩\n",
    "# from google.colab import drive\n",
    "# drive.mount('/content/drive')\n",
    "# data_dir = '/content/drive/MyDrive/AIFFEL/Workspace/Project/Datathon/data'\n",
    "\n",
    "# 로컬\n",
    "data_dir = os.getenv('USERPROFILE') + '\\OneDrive - 수원대학교\\Office\\AIFFEL\\Workspace\\Project\\Datathon\\data'"
   ]
  },
  {
   "cell_type": "code",
   "execution_count": 49,
   "id": "86ff6279-a8c0-422b-8123-109d7524c7ba",
   "metadata": {
    "colab": {
     "base_uri": "https://localhost:8080/"
    },
    "id": "8sVYln89LZVl",
    "outputId": "60a02ac0-3c41-4824-c1e5-62a9f7d4bb92"
   },
   "outputs": [
    {
     "name": "stdout",
     "output_type": "stream",
     "text": [
      "(1216553, 13) (5463, 12)\n"
     ]
    }
   ],
   "source": [
    "train_path = join(data_dir, 'train.csv')\n",
    "test_path = join(data_dir, 'test.csv')\n",
    "\n",
    "train = pd.read_csv(train_path, index_col=0).reset_index(drop=True)\n",
    "test_X = pd.read_csv(test_path, index_col=0).reset_index(drop=True)\n",
    "\n",
    "print(train.shape, test_X.shape)"
   ]
  },
  {
   "cell_type": "code",
   "execution_count": 50,
   "id": "d0d974e1-6b14-4470-819c-a0ef4409912a",
   "metadata": {},
   "outputs": [
    {
     "data": {
      "text/plain": [
       "(60828, 13)"
      ]
     },
     "execution_count": 50,
     "metadata": {},
     "output_type": "execute_result"
    }
   ],
   "source": [
    "train_copy = train.copy()\n",
    "\n",
    "## 표본 추출을 통해 train 데이터의 수를 줄이겠습니다.\n",
    "train = train.sample(frac=0.05, random_state=9)\n",
    "train.shape"
   ]
  },
  {
   "cell_type": "code",
   "execution_count": 51,
   "id": "6a4ce207-54e4-454e-ac2a-5b08bdbab70e",
   "metadata": {},
   "outputs": [
    {
     "data": {
      "text/html": [
       "<div>\n",
       "<style scoped>\n",
       "    .dataframe tbody tr th:only-of-type {\n",
       "        vertical-align: middle;\n",
       "    }\n",
       "\n",
       "    .dataframe tbody tr th {\n",
       "        vertical-align: top;\n",
       "    }\n",
       "\n",
       "    .dataframe thead th {\n",
       "        text-align: right;\n",
       "    }\n",
       "</style>\n",
       "<table border=\"1\" class=\"dataframe\">\n",
       "  <thead>\n",
       "    <tr style=\"text-align: right;\">\n",
       "      <th></th>\n",
       "      <th>apartment_id</th>\n",
       "      <th>city</th>\n",
       "      <th>gu</th>\n",
       "      <th>dong</th>\n",
       "      <th>jibun</th>\n",
       "      <th>apt</th>\n",
       "      <th>addr_kr</th>\n",
       "      <th>exclusive_use_area</th>\n",
       "      <th>year_of_completion</th>\n",
       "      <th>transaction_year_month</th>\n",
       "      <th>transaction_date</th>\n",
       "      <th>floor</th>\n",
       "      <th>transaction_real_price</th>\n",
       "    </tr>\n",
       "  </thead>\n",
       "  <tbody>\n",
       "    <tr>\n",
       "      <th>233536</th>\n",
       "      <td>5959</td>\n",
       "      <td>서울특별시</td>\n",
       "      <td>노원구</td>\n",
       "      <td>상계동</td>\n",
       "      <td>720</td>\n",
       "      <td>상계주공6(고층)</td>\n",
       "      <td>상계동 720 상계주공6(고층)</td>\n",
       "      <td>58.01</td>\n",
       "      <td>1988</td>\n",
       "      <td>201605</td>\n",
       "      <td>11~20</td>\n",
       "      <td>9</td>\n",
       "      <td>30000</td>\n",
       "    </tr>\n",
       "    <tr>\n",
       "      <th>309676</th>\n",
       "      <td>4399</td>\n",
       "      <td>서울특별시</td>\n",
       "      <td>강서구</td>\n",
       "      <td>신정동</td>\n",
       "      <td>326</td>\n",
       "      <td>목동신시가지12</td>\n",
       "      <td>신정동 326 목동신시가지12</td>\n",
       "      <td>71.64</td>\n",
       "      <td>1988</td>\n",
       "      <td>200908</td>\n",
       "      <td>21~31</td>\n",
       "      <td>9</td>\n",
       "      <td>59800</td>\n",
       "    </tr>\n",
       "    <tr>\n",
       "      <th>799304</th>\n",
       "      <td>1334</td>\n",
       "      <td>부산광역시</td>\n",
       "      <td>북구</td>\n",
       "      <td>구포동</td>\n",
       "      <td>1103-2</td>\n",
       "      <td>구포현대</td>\n",
       "      <td>구포동 1103-2 구포현대</td>\n",
       "      <td>61.20</td>\n",
       "      <td>1994</td>\n",
       "      <td>200803</td>\n",
       "      <td>1~10</td>\n",
       "      <td>3</td>\n",
       "      <td>8200</td>\n",
       "    </tr>\n",
       "    <tr>\n",
       "      <th>834293</th>\n",
       "      <td>8752</td>\n",
       "      <td>부산광역시</td>\n",
       "      <td>북구</td>\n",
       "      <td>화명동</td>\n",
       "      <td>1426-1</td>\n",
       "      <td>우신</td>\n",
       "      <td>화명동 1426-1 우신</td>\n",
       "      <td>57.26</td>\n",
       "      <td>1987</td>\n",
       "      <td>201503</td>\n",
       "      <td>11~20</td>\n",
       "      <td>5</td>\n",
       "      <td>16100</td>\n",
       "    </tr>\n",
       "    <tr>\n",
       "      <th>656397</th>\n",
       "      <td>6914</td>\n",
       "      <td>부산광역시</td>\n",
       "      <td>서구</td>\n",
       "      <td>암남동</td>\n",
       "      <td>81-12</td>\n",
       "      <td>송도자유비치</td>\n",
       "      <td>암남동 81-12 송도자유비치</td>\n",
       "      <td>59.79</td>\n",
       "      <td>1997</td>\n",
       "      <td>201202</td>\n",
       "      <td>11~20</td>\n",
       "      <td>11</td>\n",
       "      <td>10000</td>\n",
       "    </tr>\n",
       "  </tbody>\n",
       "</table>\n",
       "</div>"
      ],
      "text/plain": [
       "        apartment_id   city   gu dong   jibun        apt            addr_kr  \\\n",
       "233536          5959  서울특별시  노원구  상계동     720  상계주공6(고층)  상계동 720 상계주공6(고층)   \n",
       "309676          4399  서울특별시  강서구  신정동     326   목동신시가지12   신정동 326 목동신시가지12   \n",
       "799304          1334  부산광역시   북구  구포동  1103-2       구포현대    구포동 1103-2 구포현대   \n",
       "834293          8752  부산광역시   북구  화명동  1426-1         우신      화명동 1426-1 우신   \n",
       "656397          6914  부산광역시   서구  암남동   81-12     송도자유비치   암남동 81-12 송도자유비치   \n",
       "\n",
       "        exclusive_use_area  year_of_completion  transaction_year_month  \\\n",
       "233536               58.01                1988                  201605   \n",
       "309676               71.64                1988                  200908   \n",
       "799304               61.20                1994                  200803   \n",
       "834293               57.26                1987                  201503   \n",
       "656397               59.79                1997                  201202   \n",
       "\n",
       "       transaction_date  floor  transaction_real_price  \n",
       "233536            11~20      9                   30000  \n",
       "309676            21~31      9                   59800  \n",
       "799304             1~10      3                    8200  \n",
       "834293            11~20      5                   16100  \n",
       "656397            11~20     11                   10000  "
      ]
     },
     "execution_count": 51,
     "metadata": {},
     "output_type": "execute_result"
    }
   ],
   "source": [
    "train.head()"
   ]
  },
  {
   "cell_type": "code",
   "execution_count": 52,
   "id": "dd8da9ac-a17e-49ae-9ca8-bcf9b48a90b0",
   "metadata": {},
   "outputs": [
    {
     "data": {
      "text/html": [
       "<div>\n",
       "<style scoped>\n",
       "    .dataframe tbody tr th:only-of-type {\n",
       "        vertical-align: middle;\n",
       "    }\n",
       "\n",
       "    .dataframe tbody tr th {\n",
       "        vertical-align: top;\n",
       "    }\n",
       "\n",
       "    .dataframe thead th {\n",
       "        text-align: right;\n",
       "    }\n",
       "</style>\n",
       "<table border=\"1\" class=\"dataframe\">\n",
       "  <thead>\n",
       "    <tr style=\"text-align: right;\">\n",
       "      <th></th>\n",
       "      <th>apartment_id</th>\n",
       "      <th>city</th>\n",
       "      <th>gu</th>\n",
       "      <th>dong</th>\n",
       "      <th>jibun</th>\n",
       "      <th>apt</th>\n",
       "      <th>addr_kr</th>\n",
       "      <th>exclusive_use_area</th>\n",
       "      <th>year_of_completion</th>\n",
       "      <th>transaction_year_month</th>\n",
       "      <th>transaction_date</th>\n",
       "      <th>floor</th>\n",
       "    </tr>\n",
       "  </thead>\n",
       "  <tbody>\n",
       "    <tr>\n",
       "      <th>0</th>\n",
       "      <td>10453</td>\n",
       "      <td>서울특별시</td>\n",
       "      <td>강서구</td>\n",
       "      <td>목동</td>\n",
       "      <td>938</td>\n",
       "      <td>청학</td>\n",
       "      <td>목동 938 청학</td>\n",
       "      <td>35.5500</td>\n",
       "      <td>2002</td>\n",
       "      <td>201711</td>\n",
       "      <td>11~20</td>\n",
       "      <td>2</td>\n",
       "    </tr>\n",
       "    <tr>\n",
       "      <th>1</th>\n",
       "      <td>989</td>\n",
       "      <td>부산광역시</td>\n",
       "      <td>동구</td>\n",
       "      <td>초량동</td>\n",
       "      <td>1143-8</td>\n",
       "      <td>고관맨션</td>\n",
       "      <td>초량동 1143-8 고관맨션</td>\n",
       "      <td>68.7200</td>\n",
       "      <td>1977</td>\n",
       "      <td>201708</td>\n",
       "      <td>21~31</td>\n",
       "      <td>2</td>\n",
       "    </tr>\n",
       "    <tr>\n",
       "      <th>2</th>\n",
       "      <td>8597</td>\n",
       "      <td>부산광역시</td>\n",
       "      <td>사하구</td>\n",
       "      <td>괴정동</td>\n",
       "      <td>447-13</td>\n",
       "      <td>우림그린</td>\n",
       "      <td>괴정동 447-13 우림그린</td>\n",
       "      <td>72.5400</td>\n",
       "      <td>1989</td>\n",
       "      <td>201710</td>\n",
       "      <td>11~20</td>\n",
       "      <td>2</td>\n",
       "    </tr>\n",
       "    <tr>\n",
       "      <th>3</th>\n",
       "      <td>11086</td>\n",
       "      <td>서울특별시</td>\n",
       "      <td>강남구</td>\n",
       "      <td>대치동</td>\n",
       "      <td>1007-2</td>\n",
       "      <td>풍림아이원4차(1007-2)</td>\n",
       "      <td>대치동 1007-2 풍림아이원4차(1007-2)</td>\n",
       "      <td>111.5400</td>\n",
       "      <td>2004</td>\n",
       "      <td>201707</td>\n",
       "      <td>1~10</td>\n",
       "      <td>10</td>\n",
       "    </tr>\n",
       "    <tr>\n",
       "      <th>4</th>\n",
       "      <td>2121</td>\n",
       "      <td>부산광역시</td>\n",
       "      <td>사하구</td>\n",
       "      <td>다대동</td>\n",
       "      <td>1670</td>\n",
       "      <td>다대롯데캐슬블루</td>\n",
       "      <td>다대동 1670 다대롯데캐슬블루</td>\n",
       "      <td>119.6398</td>\n",
       "      <td>2014</td>\n",
       "      <td>201712</td>\n",
       "      <td>11~20</td>\n",
       "      <td>21</td>\n",
       "    </tr>\n",
       "  </tbody>\n",
       "</table>\n",
       "</div>"
      ],
      "text/plain": [
       "   apartment_id   city   gu dong   jibun              apt  \\\n",
       "0         10453  서울특별시  강서구   목동     938               청학   \n",
       "1           989  부산광역시   동구  초량동  1143-8             고관맨션   \n",
       "2          8597  부산광역시  사하구  괴정동  447-13             우림그린   \n",
       "3         11086  서울특별시  강남구  대치동  1007-2  풍림아이원4차(1007-2)   \n",
       "4          2121  부산광역시  사하구  다대동    1670         다대롯데캐슬블루   \n",
       "\n",
       "                      addr_kr  exclusive_use_area  year_of_completion  \\\n",
       "0                   목동 938 청학             35.5500                2002   \n",
       "1             초량동 1143-8 고관맨션             68.7200                1977   \n",
       "2             괴정동 447-13 우림그린             72.5400                1989   \n",
       "3  대치동 1007-2 풍림아이원4차(1007-2)            111.5400                2004   \n",
       "4           다대동 1670 다대롯데캐슬블루            119.6398                2014   \n",
       "\n",
       "   transaction_year_month transaction_date  floor  \n",
       "0                  201711            11~20      2  \n",
       "1                  201708            21~31      2  \n",
       "2                  201710            11~20      2  \n",
       "3                  201707             1~10     10  \n",
       "4                  201712            11~20     21  "
      ]
     },
     "execution_count": 52,
     "metadata": {},
     "output_type": "execute_result"
    }
   ],
   "source": [
    "test_X.head()"
   ]
  },
  {
   "cell_type": "markdown",
   "id": "30e8f859-d256-4e68-8492-d0637228a544",
   "metadata": {},
   "source": [
    "데이터 정보\n",
    "\n",
    "0. apartment_id: 아파트 아이디\n",
    "1. city: 도시\n",
    "2. dong: 동\n",
    "3. jibun: 지번\n",
    "4. apt: 아파트단지 이름\n",
    "5. addr_kr: 주소\n",
    "6. exclusive_use_area: 전용면적\n",
    "7. year_of_completion: 설립일자\n",
    "8. transaction_year_month: 거래년월\n",
    "9. transaction_date: 거래날짜\n",
    "10. floor: 층\n",
    "11. transaction_real_price: 실거래가(train 만 존재)"
   ]
  },
  {
   "cell_type": "code",
   "execution_count": 53,
   "id": "c825a591-4637-424d-b0fc-798a241b2df9",
   "metadata": {},
   "outputs": [
    {
     "data": {
      "text/plain": [
       "<AxesSubplot:>"
      ]
     },
     "execution_count": 53,
     "metadata": {},
     "output_type": "execute_result"
    },
    {
     "data": {
      "image/png": "[encoded data removed]",
      "text/plain": [
       "<Figure size 800x600 with 2 Axes>"
      ]
     },
     "metadata": {},
     "output_type": "display_data"
    }
   ],
   "source": [
    "#상관관계 확인\n",
    "k = train.shape[1] #히트맵 변수 갯수\n",
    "corr_mat = train.corr() #변수간의 상관관계\n",
    "cols = corr_mat.nlargest(k, 'transaction_real_price')['transaction_real_price'].index #price기준으로 제일 큰순서대로 20개를 뽑아냄\n",
    "cm = np.corrcoef(train[cols].values.T)\n",
    "\n",
    "f, ax = plt.subplots(figsize=(8, 6))\n",
    "sns.heatmap(data = cm, annot=True, square=True, fmt = '.2f', linewidths=.5, cmap='Reds', \n",
    "            yticklabels = cols.values, xticklabels = cols.values)"
   ]
  },
  {
   "cell_type": "markdown",
   "id": "aaebe4e3-012e-4c48-ad54-c58849c456ac",
   "metadata": {
    "tags": []
   },
   "source": [
    "# 2. train, test 데이터 합치기!"
   ]
  },
  {
   "cell_type": "code",
   "execution_count": 54,
   "id": "2f0464e8-4059-465f-98f7-431c7ba58175",
   "metadata": {},
   "outputs": [
    {
     "name": "stdout",
     "output_type": "stream",
     "text": [
      "233536    30000\n",
      "309676    59800\n",
      "799304     8200\n",
      "834293    16100\n",
      "656397    10000\n",
      "Name: transaction_real_price, dtype: int64\n",
      "(60828, 13)\n",
      "(60828, 12)\n"
     ]
    }
   ],
   "source": [
    "train_y = train['transaction_real_price']\n",
    "print(train_y.head())\n",
    "\n",
    "print(train.shape)\n",
    "train_X = train.drop('transaction_real_price', axis=1)\n",
    "print(train_X.shape)"
   ]
  },
  {
   "cell_type": "code",
   "execution_count": 55,
   "id": "19bcf796-0bb1-4246-9106-83df5af8e371",
   "metadata": {},
   "outputs": [
    {
     "data": {
      "text/plain": [
       "(66291, 12)"
      ]
     },
     "execution_count": 55,
     "metadata": {},
     "output_type": "execute_result"
    }
   ],
   "source": [
    "whole_X = pd.concat((train_X, test_X), axis=0)\n",
    "whole_X.shape"
   ]
  },
  {
   "cell_type": "code",
   "execution_count": 56,
   "id": "58bb9f92-4a05-4061-9794-b50e82df7216",
   "metadata": {},
   "outputs": [
    {
     "data": {
      "text/html": [
       "<div>\n",
       "<style scoped>\n",
       "    .dataframe tbody tr th:only-of-type {\n",
       "        vertical-align: middle;\n",
       "    }\n",
       "\n",
       "    .dataframe tbody tr th {\n",
       "        vertical-align: top;\n",
       "    }\n",
       "\n",
       "    .dataframe thead th {\n",
       "        text-align: right;\n",
       "    }\n",
       "</style>\n",
       "<table border=\"1\" class=\"dataframe\">\n",
       "  <thead>\n",
       "    <tr style=\"text-align: right;\">\n",
       "      <th></th>\n",
       "      <th>apartment_id</th>\n",
       "      <th>city</th>\n",
       "      <th>gu</th>\n",
       "      <th>dong</th>\n",
       "      <th>jibun</th>\n",
       "      <th>apt</th>\n",
       "      <th>addr_kr</th>\n",
       "      <th>exclusive_use_area</th>\n",
       "      <th>year_of_completion</th>\n",
       "      <th>transaction_year_month</th>\n",
       "      <th>transaction_date</th>\n",
       "      <th>floor</th>\n",
       "    </tr>\n",
       "  </thead>\n",
       "  <tbody>\n",
       "    <tr>\n",
       "      <th>233536</th>\n",
       "      <td>5959</td>\n",
       "      <td>서울특별시</td>\n",
       "      <td>노원구</td>\n",
       "      <td>상계동</td>\n",
       "      <td>720</td>\n",
       "      <td>상계주공6(고층)</td>\n",
       "      <td>상계동 720 상계주공6(고층)</td>\n",
       "      <td>58.01</td>\n",
       "      <td>1988</td>\n",
       "      <td>201605</td>\n",
       "      <td>11~20</td>\n",
       "      <td>9</td>\n",
       "    </tr>\n",
       "    <tr>\n",
       "      <th>309676</th>\n",
       "      <td>4399</td>\n",
       "      <td>서울특별시</td>\n",
       "      <td>강서구</td>\n",
       "      <td>신정동</td>\n",
       "      <td>326</td>\n",
       "      <td>목동신시가지12</td>\n",
       "      <td>신정동 326 목동신시가지12</td>\n",
       "      <td>71.64</td>\n",
       "      <td>1988</td>\n",
       "      <td>200908</td>\n",
       "      <td>21~31</td>\n",
       "      <td>9</td>\n",
       "    </tr>\n",
       "    <tr>\n",
       "      <th>799304</th>\n",
       "      <td>1334</td>\n",
       "      <td>부산광역시</td>\n",
       "      <td>북구</td>\n",
       "      <td>구포동</td>\n",
       "      <td>1103-2</td>\n",
       "      <td>구포현대</td>\n",
       "      <td>구포동 1103-2 구포현대</td>\n",
       "      <td>61.20</td>\n",
       "      <td>1994</td>\n",
       "      <td>200803</td>\n",
       "      <td>1~10</td>\n",
       "      <td>3</td>\n",
       "    </tr>\n",
       "    <tr>\n",
       "      <th>834293</th>\n",
       "      <td>8752</td>\n",
       "      <td>부산광역시</td>\n",
       "      <td>북구</td>\n",
       "      <td>화명동</td>\n",
       "      <td>1426-1</td>\n",
       "      <td>우신</td>\n",
       "      <td>화명동 1426-1 우신</td>\n",
       "      <td>57.26</td>\n",
       "      <td>1987</td>\n",
       "      <td>201503</td>\n",
       "      <td>11~20</td>\n",
       "      <td>5</td>\n",
       "    </tr>\n",
       "    <tr>\n",
       "      <th>656397</th>\n",
       "      <td>6914</td>\n",
       "      <td>부산광역시</td>\n",
       "      <td>서구</td>\n",
       "      <td>암남동</td>\n",
       "      <td>81-12</td>\n",
       "      <td>송도자유비치</td>\n",
       "      <td>암남동 81-12 송도자유비치</td>\n",
       "      <td>59.79</td>\n",
       "      <td>1997</td>\n",
       "      <td>201202</td>\n",
       "      <td>11~20</td>\n",
       "      <td>11</td>\n",
       "    </tr>\n",
       "  </tbody>\n",
       "</table>\n",
       "</div>"
      ],
      "text/plain": [
       "        apartment_id   city   gu dong   jibun        apt            addr_kr  \\\n",
       "233536          5959  서울특별시  노원구  상계동     720  상계주공6(고층)  상계동 720 상계주공6(고층)   \n",
       "309676          4399  서울특별시  강서구  신정동     326   목동신시가지12   신정동 326 목동신시가지12   \n",
       "799304          1334  부산광역시   북구  구포동  1103-2       구포현대    구포동 1103-2 구포현대   \n",
       "834293          8752  부산광역시   북구  화명동  1426-1         우신      화명동 1426-1 우신   \n",
       "656397          6914  부산광역시   서구  암남동   81-12     송도자유비치   암남동 81-12 송도자유비치   \n",
       "\n",
       "        exclusive_use_area  year_of_completion  transaction_year_month  \\\n",
       "233536               58.01                1988                  201605   \n",
       "309676               71.64                1988                  200908   \n",
       "799304               61.20                1994                  200803   \n",
       "834293               57.26                1987                  201503   \n",
       "656397               59.79                1997                  201202   \n",
       "\n",
       "       transaction_date  floor  \n",
       "233536            11~20      9  \n",
       "309676            21~31      9  \n",
       "799304             1~10      3  \n",
       "834293            11~20      5  \n",
       "656397            11~20     11  "
      ]
     },
     "execution_count": 56,
     "metadata": {},
     "output_type": "execute_result"
    }
   ],
   "source": [
    "whole_X.head()"
   ]
  },
  {
   "cell_type": "code",
   "execution_count": 57,
   "id": "4df8f3ec-6a65-4af0-98d2-c1ee6fdce62c",
   "metadata": {},
   "outputs": [
    {
     "data": {
      "text/html": [
       "<div>\n",
       "<style scoped>\n",
       "    .dataframe tbody tr th:only-of-type {\n",
       "        vertical-align: middle;\n",
       "    }\n",
       "\n",
       "    .dataframe tbody tr th {\n",
       "        vertical-align: top;\n",
       "    }\n",
       "\n",
       "    .dataframe thead th {\n",
       "        text-align: right;\n",
       "    }\n",
       "</style>\n",
       "<table border=\"1\" class=\"dataframe\">\n",
       "  <thead>\n",
       "    <tr style=\"text-align: right;\">\n",
       "      <th></th>\n",
       "      <th>apartment_id</th>\n",
       "      <th>exclusive_use_area</th>\n",
       "      <th>year_of_completion</th>\n",
       "      <th>transaction_year_month</th>\n",
       "      <th>floor</th>\n",
       "    </tr>\n",
       "  </thead>\n",
       "  <tbody>\n",
       "    <tr>\n",
       "      <th>count</th>\n",
       "      <td>66291.000000</td>\n",
       "      <td>66291.000000</td>\n",
       "      <td>66291.000000</td>\n",
       "      <td>66291.000000</td>\n",
       "      <td>66291.000000</td>\n",
       "    </tr>\n",
       "    <tr>\n",
       "      <th>mean</th>\n",
       "      <td>6313.173251</td>\n",
       "      <td>78.150135</td>\n",
       "      <td>1998.507294</td>\n",
       "      <td>201333.375767</td>\n",
       "      <td>9.237966</td>\n",
       "    </tr>\n",
       "    <tr>\n",
       "      <th>std</th>\n",
       "      <td>3580.013258</td>\n",
       "      <td>29.539416</td>\n",
       "      <td>9.049267</td>\n",
       "      <td>300.136513</td>\n",
       "      <td>6.547386</td>\n",
       "    </tr>\n",
       "    <tr>\n",
       "      <th>min</th>\n",
       "      <td>2.000000</td>\n",
       "      <td>10.321500</td>\n",
       "      <td>1961.000000</td>\n",
       "      <td>200801.000000</td>\n",
       "      <td>-1.000000</td>\n",
       "    </tr>\n",
       "    <tr>\n",
       "      <th>25%</th>\n",
       "      <td>3351.000000</td>\n",
       "      <td>59.760000</td>\n",
       "      <td>1993.000000</td>\n",
       "      <td>201101.000000</td>\n",
       "      <td>4.000000</td>\n",
       "    </tr>\n",
       "    <tr>\n",
       "      <th>50%</th>\n",
       "      <td>5967.000000</td>\n",
       "      <td>81.760000</td>\n",
       "      <td>2000.000000</td>\n",
       "      <td>201405.000000</td>\n",
       "      <td>8.000000</td>\n",
       "    </tr>\n",
       "    <tr>\n",
       "      <th>75%</th>\n",
       "      <td>9436.000000</td>\n",
       "      <td>84.970000</td>\n",
       "      <td>2005.000000</td>\n",
       "      <td>201606.000000</td>\n",
       "      <td>13.000000</td>\n",
       "    </tr>\n",
       "    <tr>\n",
       "      <th>max</th>\n",
       "      <td>12654.000000</td>\n",
       "      <td>273.860000</td>\n",
       "      <td>2017.000000</td>\n",
       "      <td>201712.000000</td>\n",
       "      <td>80.000000</td>\n",
       "    </tr>\n",
       "  </tbody>\n",
       "</table>\n",
       "</div>"
      ],
      "text/plain": [
       "       apartment_id  exclusive_use_area  year_of_completion  \\\n",
       "count  66291.000000        66291.000000        66291.000000   \n",
       "mean    6313.173251           78.150135         1998.507294   \n",
       "std     3580.013258           29.539416            9.049267   \n",
       "min        2.000000           10.321500         1961.000000   \n",
       "25%     3351.000000           59.760000         1993.000000   \n",
       "50%     5967.000000           81.760000         2000.000000   \n",
       "75%     9436.000000           84.970000         2005.000000   \n",
       "max    12654.000000          273.860000         2017.000000   \n",
       "\n",
       "       transaction_year_month         floor  \n",
       "count            66291.000000  66291.000000  \n",
       "mean            201333.375767      9.237966  \n",
       "std                300.136513      6.547386  \n",
       "min             200801.000000     -1.000000  \n",
       "25%             201101.000000      4.000000  \n",
       "50%             201405.000000      8.000000  \n",
       "75%             201606.000000     13.000000  \n",
       "max             201712.000000     80.000000  "
      ]
     },
     "execution_count": 57,
     "metadata": {},
     "output_type": "execute_result"
    }
   ],
   "source": [
    "whole_X.describe()"
   ]
  },
  {
   "cell_type": "code",
   "execution_count": 58,
   "id": "0b8f2ce1-8d93-4c2e-ae20-92cc24b36225",
   "metadata": {},
   "outputs": [
    {
     "name": "stdout",
     "output_type": "stream",
     "text": [
      "<class 'pandas.core.frame.DataFrame'>\n",
      "Int64Index: 66291 entries, 233536 to 5462\n",
      "Data columns (total 12 columns):\n",
      " #   Column                  Non-Null Count  Dtype  \n",
      "---  ------                  --------------  -----  \n",
      " 0   apartment_id            66291 non-null  int64  \n",
      " 1   city                    66291 non-null  object \n",
      " 2   gu                      66291 non-null  object \n",
      " 3   dong                    66291 non-null  object \n",
      " 4   jibun                   66291 non-null  object \n",
      " 5   apt                     66291 non-null  object \n",
      " 6   addr_kr                 66291 non-null  object \n",
      " 7   exclusive_use_area      66291 non-null  float64\n",
      " 8   year_of_completion      66291 non-null  int64  \n",
      " 9   transaction_year_month  66291 non-null  int64  \n",
      " 10  transaction_date        66291 non-null  object \n",
      " 11  floor                   66291 non-null  int64  \n",
      "dtypes: float64(1), int64(4), object(7)\n",
      "memory usage: 6.6+ MB\n"
     ]
    }
   ],
   "source": [
    "whole_X.info()"
   ]
  },
  {
   "cell_type": "markdown",
   "id": "6c813d6e-9fc5-4cb2-a8e7-bbeec94ae985",
   "metadata": {},
   "source": [
    "# 3. 탐색적 자료 분석하기!"
   ]
  },
  {
   "cell_type": "code",
   "execution_count": 59,
   "id": "46144052-443c-4b14-ac7c-542f438f51d8",
   "metadata": {},
   "outputs": [
    {
     "name": "stdout",
     "output_type": "stream",
     "text": [
      "(66291, 12)\n",
      "(66291, 8)\n"
     ]
    }
   ],
   "source": [
    "print(whole_X.shape)\n",
    "whole_X = whole_X.drop(['jibun', 'apt', 'addr_kr', 'transaction_date'], axis=1)\n",
    "print(whole_X.shape)"
   ]
  },
  {
   "cell_type": "code",
   "execution_count": 60,
   "id": "b06b8d0d-80cf-4cd0-ba22-6689f5737eae",
   "metadata": {
    "tags": []
   },
   "outputs": [],
   "source": [
    "whole_X['year_of_completion'] = pd.to_datetime(whole_X['year_of_completion'].apply(lambda x: str(x)[:4])).dt.year"
   ]
  },
  {
   "cell_type": "code",
   "execution_count": 61,
   "id": "39701d4e-7f4b-4ff7-a23b-ea5ad32527df",
   "metadata": {},
   "outputs": [
    {
     "data": {
      "text/plain": [
       "233536    1988\n",
       "309676    1988\n",
       "799304    1994\n",
       "834293    1987\n",
       "656397    1997\n",
       "          ... \n",
       "5458      2003\n",
       "5459      2009\n",
       "5460      2004\n",
       "5461      2005\n",
       "5462      1993\n",
       "Name: year_of_completion, Length: 66291, dtype: int64"
      ]
     },
     "execution_count": 61,
     "metadata": {},
     "output_type": "execute_result"
    }
   ],
   "source": [
    "whole_X['year_of_completion']"
   ]
  },
  {
   "cell_type": "code",
   "execution_count": 62,
   "id": "42cab4a7-8f61-4478-916b-0cca288aa2cb",
   "metadata": {},
   "outputs": [],
   "source": [
    "whole_X['transaction_year_month'] = pd.to_datetime(whole_X['transaction_year_month'].apply(lambda x: str(x)[:4])).dt.year"
   ]
  },
  {
   "cell_type": "code",
   "execution_count": 63,
   "id": "9f4473b0-00e3-4153-a5be-b952b210de7e",
   "metadata": {},
   "outputs": [
    {
     "data": {
      "text/plain": [
       "233536    2016\n",
       "309676    2009\n",
       "799304    2008\n",
       "834293    2015\n",
       "656397    2012\n",
       "          ... \n",
       "5458      2017\n",
       "5459      2017\n",
       "5460      2017\n",
       "5461      2017\n",
       "5462      2017\n",
       "Name: transaction_year_month, Length: 66291, dtype: int64"
      ]
     },
     "execution_count": 63,
     "metadata": {},
     "output_type": "execute_result"
    }
   ],
   "source": [
    "whole_X['transaction_year_month']"
   ]
  },
  {
   "cell_type": "code",
   "execution_count": 64,
   "id": "2c22017e-1eda-46f3-a3b8-e474bd17f553",
   "metadata": {},
   "outputs": [
    {
     "name": "stderr",
     "output_type": "stream",
     "text": [
      "C:\\Users\\Hugh\\anaconda3\\lib\\site-packages\\seaborn\\_decorators.py:36: FutureWarning: Pass the following variables as keyword args: x, y. From version 0.12, the only valid positional argument will be `data`, and passing other arguments without an explicit keyword will result in an error or misinterpretation.\n",
      "  warnings.warn(\n"
     ]
    },
    {
     "data": {
      "text/plain": [
       "<AxesSubplot:xlabel='floor', ylabel='transaction_real_price'>"
      ]
     },
     "execution_count": 64,
     "metadata": {},
     "output_type": "execute_result"
    },
    {
     "data": {
      "image/png": "[encoded data removed]",
      "text/plain": [
       "<Figure size 1200x900 with 1 Axes>"
      ]
     },
     "metadata": {},
     "output_type": "display_data"
    }
   ],
   "source": [
    "f, ax = plt.subplots(figsize=(12, 9))\n",
    "group = train.groupby(['floor']).mean()['transaction_real_price']\n",
    "sns.barplot(group.index, group)"
   ]
  },
  {
   "cell_type": "code",
   "execution_count": 65,
   "id": "8232c281-5e25-4093-a335-0b459dace8d4",
   "metadata": {},
   "outputs": [
    {
     "data": {
      "text/plain": [
       "count    66291.000000\n",
       "mean         9.237966\n",
       "std          6.547386\n",
       "min         -1.000000\n",
       "25%          4.000000\n",
       "50%          8.000000\n",
       "75%         13.000000\n",
       "max         80.000000\n",
       "Name: floor, dtype: float64"
      ]
     },
     "execution_count": 65,
     "metadata": {},
     "output_type": "execute_result"
    }
   ],
   "source": [
    "whole_X['floor'].describe()"
   ]
  },
  {
   "cell_type": "code",
   "execution_count": 66,
   "id": "54cbd7a3-1c05-4c2a-9a49-bad6ea898194",
   "metadata": {},
   "outputs": [
    {
     "data": {
      "text/plain": [
       "233536    13\n",
       "309676    13\n",
       "799304     7\n",
       "834293     9\n",
       "656397    15\n",
       "Name: floor, dtype: int64"
      ]
     },
     "execution_count": 66,
     "metadata": {},
     "output_type": "execute_result"
    }
   ],
   "source": [
    "whole_X['floor'] = whole_X['floor'] + 4\n",
    "whole_X['floor'].head()"
   ]
  },
  {
   "cell_type": "code",
   "execution_count": 67,
   "id": "f86b3a8a-62db-4a3b-83b2-3863359d3d30",
   "metadata": {},
   "outputs": [
    {
     "name": "stdout",
     "output_type": "stream",
     "text": [
      "<class 'pandas.core.frame.DataFrame'>\n",
      "Int64Index: 66291 entries, 233536 to 5462\n",
      "Data columns (total 8 columns):\n",
      " #   Column                  Non-Null Count  Dtype  \n",
      "---  ------                  --------------  -----  \n",
      " 0   apartment_id            66291 non-null  int64  \n",
      " 1   city                    66291 non-null  object \n",
      " 2   gu                      66291 non-null  object \n",
      " 3   dong                    66291 non-null  object \n",
      " 4   exclusive_use_area      66291 non-null  float64\n",
      " 5   year_of_completion      66291 non-null  int64  \n",
      " 6   transaction_year_month  66291 non-null  int64  \n",
      " 7   floor                   66291 non-null  int64  \n",
      "dtypes: float64(1), int64(4), object(3)\n",
      "memory usage: 4.6+ MB\n"
     ]
    }
   ],
   "source": [
    "whole_X.info()"
   ]
  },
  {
   "cell_type": "code",
   "execution_count": 68,
   "id": "21ed6755-905f-4cdc-a716-ae232887b35d",
   "metadata": {
    "tags": []
   },
   "outputs": [],
   "source": [
    "# fig, ax = plt.subplots(4, 2, figsize=(12, 18))\n",
    "\n",
    "# columns = whole_X.columns\n",
    "# count = 0\n",
    "# for row in range(4):\n",
    "#     for col in range(2):\n",
    "#         sns.kdeplot(data=whole_X[columns[count]], ax=ax[row][col])\n",
    "#         ax[row][col].set_title(columns[count], fontsize=15)\n",
    "#         count += 1\n",
    "#         if count == whole_X.shape[1]:\n",
    "#             break\n",
    "            \n",
    "# plt.show()"
   ]
  },
  {
   "cell_type": "code",
   "execution_count": 69,
   "id": "d0c7f2ad-cb99-4f9d-bd7c-4f8881cedb29",
   "metadata": {},
   "outputs": [
    {
     "data": {
      "text/plain": [
       "array([30000, 59800,  8200, ..., 19500, 41900, 47500], dtype=int64)"
      ]
     },
     "execution_count": 69,
     "metadata": {},
     "output_type": "execute_result"
    }
   ],
   "source": [
    "train_y.values"
   ]
  },
  {
   "cell_type": "code",
   "execution_count": 70,
   "id": "6379cfaf-fed7-411d-890b-3fda94a16e0c",
   "metadata": {
    "tags": []
   },
   "outputs": [
    {
     "name": "stderr",
     "output_type": "stream",
     "text": [
      "C:\\Users\\Hugh\\AppData\\Local\\Temp\\ipykernel_7960\\458979734.py:3: SettingWithCopyWarning: \n",
      "A value is trying to be set on a copy of a slice from a DataFrame.\n",
      "Try using .loc[row_indexer,col_indexer] = value instead\n",
      "\n",
      "See the caveats in the documentation: https://pandas.pydata.org/pandas-docs/stable/user_guide/indexing.html#returning-a-view-versus-a-copy\n",
      "  train_temp.loc[:, 'transaction_real_price'] = train_y.values\n"
     ]
    },
    {
     "data": {
      "text/html": [
       "<div>\n",
       "<style scoped>\n",
       "    .dataframe tbody tr th:only-of-type {\n",
       "        vertical-align: middle;\n",
       "    }\n",
       "\n",
       "    .dataframe tbody tr th {\n",
       "        vertical-align: top;\n",
       "    }\n",
       "\n",
       "    .dataframe thead th {\n",
       "        text-align: right;\n",
       "    }\n",
       "</style>\n",
       "<table border=\"1\" class=\"dataframe\">\n",
       "  <thead>\n",
       "    <tr style=\"text-align: right;\">\n",
       "      <th></th>\n",
       "      <th>apartment_id</th>\n",
       "      <th>city</th>\n",
       "      <th>gu</th>\n",
       "      <th>dong</th>\n",
       "      <th>exclusive_use_area</th>\n",
       "      <th>year_of_completion</th>\n",
       "      <th>transaction_year_month</th>\n",
       "      <th>floor</th>\n",
       "      <th>transaction_real_price</th>\n",
       "    </tr>\n",
       "  </thead>\n",
       "  <tbody>\n",
       "    <tr>\n",
       "      <th>233536</th>\n",
       "      <td>5959</td>\n",
       "      <td>서울특별시</td>\n",
       "      <td>노원구</td>\n",
       "      <td>상계동</td>\n",
       "      <td>58.01</td>\n",
       "      <td>1988</td>\n",
       "      <td>2016</td>\n",
       "      <td>13</td>\n",
       "      <td>30000</td>\n",
       "    </tr>\n",
       "    <tr>\n",
       "      <th>309676</th>\n",
       "      <td>4399</td>\n",
       "      <td>서울특별시</td>\n",
       "      <td>강서구</td>\n",
       "      <td>신정동</td>\n",
       "      <td>71.64</td>\n",
       "      <td>1988</td>\n",
       "      <td>2009</td>\n",
       "      <td>13</td>\n",
       "      <td>59800</td>\n",
       "    </tr>\n",
       "    <tr>\n",
       "      <th>799304</th>\n",
       "      <td>1334</td>\n",
       "      <td>부산광역시</td>\n",
       "      <td>북구</td>\n",
       "      <td>구포동</td>\n",
       "      <td>61.20</td>\n",
       "      <td>1994</td>\n",
       "      <td>2008</td>\n",
       "      <td>7</td>\n",
       "      <td>8200</td>\n",
       "    </tr>\n",
       "    <tr>\n",
       "      <th>834293</th>\n",
       "      <td>8752</td>\n",
       "      <td>부산광역시</td>\n",
       "      <td>북구</td>\n",
       "      <td>화명동</td>\n",
       "      <td>57.26</td>\n",
       "      <td>1987</td>\n",
       "      <td>2015</td>\n",
       "      <td>9</td>\n",
       "      <td>16100</td>\n",
       "    </tr>\n",
       "    <tr>\n",
       "      <th>656397</th>\n",
       "      <td>6914</td>\n",
       "      <td>부산광역시</td>\n",
       "      <td>서구</td>\n",
       "      <td>암남동</td>\n",
       "      <td>59.79</td>\n",
       "      <td>1997</td>\n",
       "      <td>2012</td>\n",
       "      <td>15</td>\n",
       "      <td>10000</td>\n",
       "    </tr>\n",
       "  </tbody>\n",
       "</table>\n",
       "</div>"
      ],
      "text/plain": [
       "        apartment_id   city   gu dong  exclusive_use_area  year_of_completion  \\\n",
       "233536          5959  서울특별시  노원구  상계동               58.01                1988   \n",
       "309676          4399  서울특별시  강서구  신정동               71.64                1988   \n",
       "799304          1334  부산광역시   북구  구포동               61.20                1994   \n",
       "834293          8752  부산광역시   북구  화명동               57.26                1987   \n",
       "656397          6914  부산광역시   서구  암남동               59.79                1997   \n",
       "\n",
       "        transaction_year_month  floor  transaction_real_price  \n",
       "233536                    2016     13                   30000  \n",
       "309676                    2009     13                   59800  \n",
       "799304                    2008      7                    8200  \n",
       "834293                    2015      9                   16100  \n",
       "656397                    2012     15                   10000  "
      ]
     },
     "execution_count": 70,
     "metadata": {},
     "output_type": "execute_result"
    }
   ],
   "source": [
    "train_temp = whole_X.iloc[:len(train), :]\n",
    "\n",
    "train_temp.loc[:, 'transaction_real_price'] = train_y.values\n",
    "train_temp.head()"
   ]
  },
  {
   "cell_type": "code",
   "execution_count": 71,
   "id": "18f772b0-599a-4ee7-884a-bd14864ce02a",
   "metadata": {},
   "outputs": [
    {
     "data": {
      "text/plain": [
       "<AxesSubplot:>"
      ]
     },
     "execution_count": 71,
     "metadata": {},
     "output_type": "execute_result"
    },
    {
     "data": {
      "image/png": "[encoded data removed]",
      "text/plain": [
       "<Figure size 800x600 with 2 Axes>"
      ]
     },
     "metadata": {},
     "output_type": "display_data"
    }
   ],
   "source": [
    "#상관관계 확인\n",
    "k = train_temp.shape[1] #히트맵 변수 갯수\n",
    "corr_mat = train_temp.corr() #변수간의 상관관계\n",
    "cols = corr_mat.nlargest(k, 'transaction_real_price')['transaction_real_price'].index #price기준으로 제일 큰순서대로 20개를 뽑아냄\n",
    "cm = np.corrcoef(train_temp[cols].values.T)\n",
    "\n",
    "f, ax = plt.subplots(figsize=(8, 6))\n",
    "sns.heatmap(data = cm, annot=True, square=True, fmt = '.2f', linewidths=.5, cmap='Reds', \n",
    "            yticklabels = cols.values, xticklabels = cols.values)"
   ]
  },
  {
   "cell_type": "code",
   "execution_count": 72,
   "id": "fd517403-059d-472f-9d19-27a0ba1f76be",
   "metadata": {},
   "outputs": [],
   "source": [
    "skew_columns = ['exclusive_use_area', 'floor']\n",
    "\n",
    "for column in skew_columns:\n",
    "    whole_X[column] = np.log1p(whole_X[column].values)"
   ]
  },
  {
   "cell_type": "code",
   "execution_count": 73,
   "id": "3c3f2064-ffac-43a7-82c2-603a9c2b5ad3",
   "metadata": {},
   "outputs": [
    {
     "data": {
      "text/plain": [
       "<AxesSubplot:xlabel='apartment_id', ylabel='Count'>"
      ]
     },
     "execution_count": 73,
     "metadata": {},
     "output_type": "execute_result"
    },
    {
     "data": {
      "image/png": "[encoded data removed]",
      "text/plain": [
       "<Figure size 640x480 with 1 Axes>"
      ]
     },
     "metadata": {},
     "output_type": "display_data"
    }
   ],
   "source": [
    "sns.histplot(whole_X['apartment_id'])"
   ]
  },
  {
   "cell_type": "code",
   "execution_count": 74,
   "id": "c3dd06c7-d9f0-4070-a495-9c6de42c6c46",
   "metadata": {},
   "outputs": [
    {
     "data": {
      "text/plain": [
       "<AxesSubplot:xlabel='exclusive_use_area', ylabel='Count'>"
      ]
     },
     "execution_count": 74,
     "metadata": {},
     "output_type": "execute_result"
    },
    {
     "data": {
      "image/png": "[encoded data removed]",
      "text/plain": [
       "<Figure size 640x480 with 1 Axes>"
      ]
     },
     "metadata": {},
     "output_type": "display_data"
    }
   ],
   "source": [
    "sns.histplot(whole_X['exclusive_use_area'])"
   ]
  },
  {
   "cell_type": "code",
   "execution_count": 75,
   "id": "5ba97eaa-2fb5-4cad-9626-5ccd2c42db5f",
   "metadata": {},
   "outputs": [
    {
     "data": {
      "text/plain": [
       "<AxesSubplot:xlabel='floor', ylabel='Count'>"
      ]
     },
     "execution_count": 75,
     "metadata": {},
     "output_type": "execute_result"
    },
    {
     "data": {
      "image/png": "[encoded data removed]",
      "text/plain": [
       "<Figure size 640x480 with 1 Axes>"
      ]
     },
     "metadata": {},
     "output_type": "display_data"
    }
   ],
   "source": [
    "sns.histplot(whole_X['floor'])"
   ]
  },
  {
   "cell_type": "code",
   "execution_count": 76,
   "id": "c1ba05f0-3531-49de-992d-4803047ae68d",
   "metadata": {},
   "outputs": [
    {
     "data": {
      "text/plain": [
       "Index(['apartment_id', 'city', 'gu', 'dong', 'exclusive_use_area',\n",
       "       'year_of_completion', 'transaction_year_month', 'floor'],\n",
       "      dtype='object')"
      ]
     },
     "execution_count": 76,
     "metadata": {},
     "output_type": "execute_result"
    }
   ],
   "source": [
    "whole_X.columns"
   ]
  },
  {
   "cell_type": "code",
   "execution_count": 77,
   "id": "b48a6209-0d4b-4d28-b593-9911807d8934",
   "metadata": {},
   "outputs": [
    {
     "name": "stdout",
     "output_type": "stream",
     "text": [
      "<class 'pandas.core.frame.DataFrame'>\n",
      "Int64Index: 66291 entries, 233536 to 5462\n",
      "Data columns (total 8 columns):\n",
      " #   Column                  Non-Null Count  Dtype  \n",
      "---  ------                  --------------  -----  \n",
      " 0   apartment_id            66291 non-null  int64  \n",
      " 1   city                    66291 non-null  object \n",
      " 2   gu                      66291 non-null  object \n",
      " 3   dong                    66291 non-null  object \n",
      " 4   exclusive_use_area      66291 non-null  float64\n",
      " 5   year_of_completion      66291 non-null  int64  \n",
      " 6   transaction_year_month  66291 non-null  int64  \n",
      " 7   floor                   66291 non-null  float64\n",
      "dtypes: float64(2), int64(3), object(3)\n",
      "memory usage: 4.6+ MB\n"
     ]
    }
   ],
   "source": [
    "whole_X.info()"
   ]
  },
  {
   "cell_type": "code",
   "execution_count": 78,
   "id": "58264dc9-c69a-4040-8d03-db1ec89f5046",
   "metadata": {},
   "outputs": [
    {
     "data": {
      "text/html": [
       "<div>\n",
       "<style scoped>\n",
       "    .dataframe tbody tr th:only-of-type {\n",
       "        vertical-align: middle;\n",
       "    }\n",
       "\n",
       "    .dataframe tbody tr th {\n",
       "        vertical-align: top;\n",
       "    }\n",
       "\n",
       "    .dataframe thead th {\n",
       "        text-align: right;\n",
       "    }\n",
       "</style>\n",
       "<table border=\"1\" class=\"dataframe\">\n",
       "  <thead>\n",
       "    <tr style=\"text-align: right;\">\n",
       "      <th></th>\n",
       "      <th>apartment_id</th>\n",
       "      <th>city</th>\n",
       "      <th>gu</th>\n",
       "      <th>dong</th>\n",
       "      <th>exclusive_use_area</th>\n",
       "      <th>year_of_completion</th>\n",
       "      <th>transaction_year_month</th>\n",
       "      <th>floor</th>\n",
       "    </tr>\n",
       "  </thead>\n",
       "  <tbody>\n",
       "    <tr>\n",
       "      <th>233536</th>\n",
       "      <td>5959</td>\n",
       "      <td>서울특별시</td>\n",
       "      <td>노원구</td>\n",
       "      <td>상계동</td>\n",
       "      <td>4.077707</td>\n",
       "      <td>1988</td>\n",
       "      <td>2016</td>\n",
       "      <td>2.639057</td>\n",
       "    </tr>\n",
       "    <tr>\n",
       "      <th>309676</th>\n",
       "      <td>4399</td>\n",
       "      <td>서울특별시</td>\n",
       "      <td>강서구</td>\n",
       "      <td>신정동</td>\n",
       "      <td>4.285516</td>\n",
       "      <td>1988</td>\n",
       "      <td>2009</td>\n",
       "      <td>2.639057</td>\n",
       "    </tr>\n",
       "    <tr>\n",
       "      <th>799304</th>\n",
       "      <td>1334</td>\n",
       "      <td>부산광역시</td>\n",
       "      <td>북구</td>\n",
       "      <td>구포동</td>\n",
       "      <td>4.130355</td>\n",
       "      <td>1994</td>\n",
       "      <td>2008</td>\n",
       "      <td>2.079442</td>\n",
       "    </tr>\n",
       "    <tr>\n",
       "      <th>834293</th>\n",
       "      <td>8752</td>\n",
       "      <td>부산광역시</td>\n",
       "      <td>북구</td>\n",
       "      <td>화명동</td>\n",
       "      <td>4.064916</td>\n",
       "      <td>1987</td>\n",
       "      <td>2015</td>\n",
       "      <td>2.302585</td>\n",
       "    </tr>\n",
       "    <tr>\n",
       "      <th>656397</th>\n",
       "      <td>6914</td>\n",
       "      <td>부산광역시</td>\n",
       "      <td>서구</td>\n",
       "      <td>암남동</td>\n",
       "      <td>4.107425</td>\n",
       "      <td>1997</td>\n",
       "      <td>2012</td>\n",
       "      <td>2.772589</td>\n",
       "    </tr>\n",
       "    <tr>\n",
       "      <th>...</th>\n",
       "      <td>...</td>\n",
       "      <td>...</td>\n",
       "      <td>...</td>\n",
       "      <td>...</td>\n",
       "      <td>...</td>\n",
       "      <td>...</td>\n",
       "      <td>...</td>\n",
       "      <td>...</td>\n",
       "    </tr>\n",
       "    <tr>\n",
       "      <th>5458</th>\n",
       "      <td>8965</td>\n",
       "      <td>서울특별시</td>\n",
       "      <td>강남구</td>\n",
       "      <td>양재동</td>\n",
       "      <td>4.443239</td>\n",
       "      <td>2003</td>\n",
       "      <td>2017</td>\n",
       "      <td>2.484907</td>\n",
       "    </tr>\n",
       "    <tr>\n",
       "      <th>5459</th>\n",
       "      <td>3831</td>\n",
       "      <td>서울특별시</td>\n",
       "      <td>강남구</td>\n",
       "      <td>반포동</td>\n",
       "      <td>4.453533</td>\n",
       "      <td>2009</td>\n",
       "      <td>2017</td>\n",
       "      <td>2.197225</td>\n",
       "    </tr>\n",
       "    <tr>\n",
       "      <th>5460</th>\n",
       "      <td>5550</td>\n",
       "      <td>서울특별시</td>\n",
       "      <td>구로구</td>\n",
       "      <td>구로동</td>\n",
       "      <td>4.711222</td>\n",
       "      <td>2004</td>\n",
       "      <td>2017</td>\n",
       "      <td>3.332205</td>\n",
       "    </tr>\n",
       "    <tr>\n",
       "      <th>5461</th>\n",
       "      <td>3371</td>\n",
       "      <td>서울특별시</td>\n",
       "      <td>서대문구</td>\n",
       "      <td>홍제동</td>\n",
       "      <td>4.537320</td>\n",
       "      <td>2005</td>\n",
       "      <td>2017</td>\n",
       "      <td>1.791759</td>\n",
       "    </tr>\n",
       "    <tr>\n",
       "      <th>5462</th>\n",
       "      <td>6825</td>\n",
       "      <td>부산광역시</td>\n",
       "      <td>해운대구</td>\n",
       "      <td>재송동</td>\n",
       "      <td>4.450152</td>\n",
       "      <td>1993</td>\n",
       "      <td>2017</td>\n",
       "      <td>2.484907</td>\n",
       "    </tr>\n",
       "  </tbody>\n",
       "</table>\n",
       "<p>66291 rows × 8 columns</p>\n",
       "</div>"
      ],
      "text/plain": [
       "        apartment_id   city    gu dong  exclusive_use_area  \\\n",
       "233536          5959  서울특별시   노원구  상계동            4.077707   \n",
       "309676          4399  서울특별시   강서구  신정동            4.285516   \n",
       "799304          1334  부산광역시    북구  구포동            4.130355   \n",
       "834293          8752  부산광역시    북구  화명동            4.064916   \n",
       "656397          6914  부산광역시    서구  암남동            4.107425   \n",
       "...              ...    ...   ...  ...                 ...   \n",
       "5458            8965  서울특별시   강남구  양재동            4.443239   \n",
       "5459            3831  서울특별시   강남구  반포동            4.453533   \n",
       "5460            5550  서울특별시   구로구  구로동            4.711222   \n",
       "5461            3371  서울특별시  서대문구  홍제동            4.537320   \n",
       "5462            6825  부산광역시  해운대구  재송동            4.450152   \n",
       "\n",
       "        year_of_completion  transaction_year_month     floor  \n",
       "233536                1988                    2016  2.639057  \n",
       "309676                1988                    2009  2.639057  \n",
       "799304                1994                    2008  2.079442  \n",
       "834293                1987                    2015  2.302585  \n",
       "656397                1997                    2012  2.772589  \n",
       "...                    ...                     ...       ...  \n",
       "5458                  2003                    2017  2.484907  \n",
       "5459                  2009                    2017  2.197225  \n",
       "5460                  2004                    2017  3.332205  \n",
       "5461                  2005                    2017  1.791759  \n",
       "5462                  1993                    2017  2.484907  \n",
       "\n",
       "[66291 rows x 8 columns]"
      ]
     },
     "execution_count": 78,
     "metadata": {},
     "output_type": "execute_result"
    }
   ],
   "source": [
    "whole_X"
   ]
  },
  {
   "cell_type": "code",
   "execution_count": 79,
   "id": "c28b46b7-3aea-4685-ba90-a4b19ba3a418",
   "metadata": {},
   "outputs": [],
   "source": [
    "whole_X_onehot = pd.get_dummies(whole_X, columns=['apartment_id', 'city', 'gu', 'dong', 'year_of_completion', 'transaction_year_month'])"
   ]
  },
  {
   "cell_type": "code",
   "execution_count": 80,
   "id": "e4adae4e-11ea-4c6b-87a1-1f96d7ed8f78",
   "metadata": {},
   "outputs": [
    {
     "data": {
      "text/html": [
       "<div>\n",
       "<style scoped>\n",
       "    .dataframe tbody tr th:only-of-type {\n",
       "        vertical-align: middle;\n",
       "    }\n",
       "\n",
       "    .dataframe tbody tr th {\n",
       "        vertical-align: top;\n",
       "    }\n",
       "\n",
       "    .dataframe thead th {\n",
       "        text-align: right;\n",
       "    }\n",
       "</style>\n",
       "<table border=\"1\" class=\"dataframe\">\n",
       "  <thead>\n",
       "    <tr style=\"text-align: right;\">\n",
       "      <th></th>\n",
       "      <th>exclusive_use_area</th>\n",
       "      <th>floor</th>\n",
       "      <th>apartment_id_2</th>\n",
       "      <th>apartment_id_5</th>\n",
       "      <th>apartment_id_12</th>\n",
       "      <th>apartment_id_14</th>\n",
       "      <th>apartment_id_17</th>\n",
       "      <th>apartment_id_18</th>\n",
       "      <th>apartment_id_19</th>\n",
       "      <th>apartment_id_20</th>\n",
       "      <th>...</th>\n",
       "      <th>transaction_year_month_2008</th>\n",
       "      <th>transaction_year_month_2009</th>\n",
       "      <th>transaction_year_month_2010</th>\n",
       "      <th>transaction_year_month_2011</th>\n",
       "      <th>transaction_year_month_2012</th>\n",
       "      <th>transaction_year_month_2013</th>\n",
       "      <th>transaction_year_month_2014</th>\n",
       "      <th>transaction_year_month_2015</th>\n",
       "      <th>transaction_year_month_2016</th>\n",
       "      <th>transaction_year_month_2017</th>\n",
       "    </tr>\n",
       "  </thead>\n",
       "  <tbody>\n",
       "    <tr>\n",
       "      <th>233536</th>\n",
       "      <td>4.077707</td>\n",
       "      <td>2.639057</td>\n",
       "      <td>0</td>\n",
       "      <td>0</td>\n",
       "      <td>0</td>\n",
       "      <td>0</td>\n",
       "      <td>0</td>\n",
       "      <td>0</td>\n",
       "      <td>0</td>\n",
       "      <td>0</td>\n",
       "      <td>...</td>\n",
       "      <td>0</td>\n",
       "      <td>0</td>\n",
       "      <td>0</td>\n",
       "      <td>0</td>\n",
       "      <td>0</td>\n",
       "      <td>0</td>\n",
       "      <td>0</td>\n",
       "      <td>0</td>\n",
       "      <td>1</td>\n",
       "      <td>0</td>\n",
       "    </tr>\n",
       "    <tr>\n",
       "      <th>309676</th>\n",
       "      <td>4.285516</td>\n",
       "      <td>2.639057</td>\n",
       "      <td>0</td>\n",
       "      <td>0</td>\n",
       "      <td>0</td>\n",
       "      <td>0</td>\n",
       "      <td>0</td>\n",
       "      <td>0</td>\n",
       "      <td>0</td>\n",
       "      <td>0</td>\n",
       "      <td>...</td>\n",
       "      <td>0</td>\n",
       "      <td>1</td>\n",
       "      <td>0</td>\n",
       "      <td>0</td>\n",
       "      <td>0</td>\n",
       "      <td>0</td>\n",
       "      <td>0</td>\n",
       "      <td>0</td>\n",
       "      <td>0</td>\n",
       "      <td>0</td>\n",
       "    </tr>\n",
       "    <tr>\n",
       "      <th>799304</th>\n",
       "      <td>4.130355</td>\n",
       "      <td>2.079442</td>\n",
       "      <td>0</td>\n",
       "      <td>0</td>\n",
       "      <td>0</td>\n",
       "      <td>0</td>\n",
       "      <td>0</td>\n",
       "      <td>0</td>\n",
       "      <td>0</td>\n",
       "      <td>0</td>\n",
       "      <td>...</td>\n",
       "      <td>1</td>\n",
       "      <td>0</td>\n",
       "      <td>0</td>\n",
       "      <td>0</td>\n",
       "      <td>0</td>\n",
       "      <td>0</td>\n",
       "      <td>0</td>\n",
       "      <td>0</td>\n",
       "      <td>0</td>\n",
       "      <td>0</td>\n",
       "    </tr>\n",
       "    <tr>\n",
       "      <th>834293</th>\n",
       "      <td>4.064916</td>\n",
       "      <td>2.302585</td>\n",
       "      <td>0</td>\n",
       "      <td>0</td>\n",
       "      <td>0</td>\n",
       "      <td>0</td>\n",
       "      <td>0</td>\n",
       "      <td>0</td>\n",
       "      <td>0</td>\n",
       "      <td>0</td>\n",
       "      <td>...</td>\n",
       "      <td>0</td>\n",
       "      <td>0</td>\n",
       "      <td>0</td>\n",
       "      <td>0</td>\n",
       "      <td>0</td>\n",
       "      <td>0</td>\n",
       "      <td>0</td>\n",
       "      <td>1</td>\n",
       "      <td>0</td>\n",
       "      <td>0</td>\n",
       "    </tr>\n",
       "    <tr>\n",
       "      <th>656397</th>\n",
       "      <td>4.107425</td>\n",
       "      <td>2.772589</td>\n",
       "      <td>0</td>\n",
       "      <td>0</td>\n",
       "      <td>0</td>\n",
       "      <td>0</td>\n",
       "      <td>0</td>\n",
       "      <td>0</td>\n",
       "      <td>0</td>\n",
       "      <td>0</td>\n",
       "      <td>...</td>\n",
       "      <td>0</td>\n",
       "      <td>0</td>\n",
       "      <td>0</td>\n",
       "      <td>0</td>\n",
       "      <td>1</td>\n",
       "      <td>0</td>\n",
       "      <td>0</td>\n",
       "      <td>0</td>\n",
       "      <td>0</td>\n",
       "      <td>0</td>\n",
       "    </tr>\n",
       "    <tr>\n",
       "      <th>...</th>\n",
       "      <td>...</td>\n",
       "      <td>...</td>\n",
       "      <td>...</td>\n",
       "      <td>...</td>\n",
       "      <td>...</td>\n",
       "      <td>...</td>\n",
       "      <td>...</td>\n",
       "      <td>...</td>\n",
       "      <td>...</td>\n",
       "      <td>...</td>\n",
       "      <td>...</td>\n",
       "      <td>...</td>\n",
       "      <td>...</td>\n",
       "      <td>...</td>\n",
       "      <td>...</td>\n",
       "      <td>...</td>\n",
       "      <td>...</td>\n",
       "      <td>...</td>\n",
       "      <td>...</td>\n",
       "      <td>...</td>\n",
       "      <td>...</td>\n",
       "    </tr>\n",
       "    <tr>\n",
       "      <th>5458</th>\n",
       "      <td>4.443239</td>\n",
       "      <td>2.484907</td>\n",
       "      <td>0</td>\n",
       "      <td>0</td>\n",
       "      <td>0</td>\n",
       "      <td>0</td>\n",
       "      <td>0</td>\n",
       "      <td>0</td>\n",
       "      <td>0</td>\n",
       "      <td>0</td>\n",
       "      <td>...</td>\n",
       "      <td>0</td>\n",
       "      <td>0</td>\n",
       "      <td>0</td>\n",
       "      <td>0</td>\n",
       "      <td>0</td>\n",
       "      <td>0</td>\n",
       "      <td>0</td>\n",
       "      <td>0</td>\n",
       "      <td>0</td>\n",
       "      <td>1</td>\n",
       "    </tr>\n",
       "    <tr>\n",
       "      <th>5459</th>\n",
       "      <td>4.453533</td>\n",
       "      <td>2.197225</td>\n",
       "      <td>0</td>\n",
       "      <td>0</td>\n",
       "      <td>0</td>\n",
       "      <td>0</td>\n",
       "      <td>0</td>\n",
       "      <td>0</td>\n",
       "      <td>0</td>\n",
       "      <td>0</td>\n",
       "      <td>...</td>\n",
       "      <td>0</td>\n",
       "      <td>0</td>\n",
       "      <td>0</td>\n",
       "      <td>0</td>\n",
       "      <td>0</td>\n",
       "      <td>0</td>\n",
       "      <td>0</td>\n",
       "      <td>0</td>\n",
       "      <td>0</td>\n",
       "      <td>1</td>\n",
       "    </tr>\n",
       "    <tr>\n",
       "      <th>5460</th>\n",
       "      <td>4.711222</td>\n",
       "      <td>3.332205</td>\n",
       "      <td>0</td>\n",
       "      <td>0</td>\n",
       "      <td>0</td>\n",
       "      <td>0</td>\n",
       "      <td>0</td>\n",
       "      <td>0</td>\n",
       "      <td>0</td>\n",
       "      <td>0</td>\n",
       "      <td>...</td>\n",
       "      <td>0</td>\n",
       "      <td>0</td>\n",
       "      <td>0</td>\n",
       "      <td>0</td>\n",
       "      <td>0</td>\n",
       "      <td>0</td>\n",
       "      <td>0</td>\n",
       "      <td>0</td>\n",
       "      <td>0</td>\n",
       "      <td>1</td>\n",
       "    </tr>\n",
       "    <tr>\n",
       "      <th>5461</th>\n",
       "      <td>4.537320</td>\n",
       "      <td>1.791759</td>\n",
       "      <td>0</td>\n",
       "      <td>0</td>\n",
       "      <td>0</td>\n",
       "      <td>0</td>\n",
       "      <td>0</td>\n",
       "      <td>0</td>\n",
       "      <td>0</td>\n",
       "      <td>0</td>\n",
       "      <td>...</td>\n",
       "      <td>0</td>\n",
       "      <td>0</td>\n",
       "      <td>0</td>\n",
       "      <td>0</td>\n",
       "      <td>0</td>\n",
       "      <td>0</td>\n",
       "      <td>0</td>\n",
       "      <td>0</td>\n",
       "      <td>0</td>\n",
       "      <td>1</td>\n",
       "    </tr>\n",
       "    <tr>\n",
       "      <th>5462</th>\n",
       "      <td>4.450152</td>\n",
       "      <td>2.484907</td>\n",
       "      <td>0</td>\n",
       "      <td>0</td>\n",
       "      <td>0</td>\n",
       "      <td>0</td>\n",
       "      <td>0</td>\n",
       "      <td>0</td>\n",
       "      <td>0</td>\n",
       "      <td>0</td>\n",
       "      <td>...</td>\n",
       "      <td>0</td>\n",
       "      <td>0</td>\n",
       "      <td>0</td>\n",
       "      <td>0</td>\n",
       "      <td>0</td>\n",
       "      <td>0</td>\n",
       "      <td>0</td>\n",
       "      <td>0</td>\n",
       "      <td>0</td>\n",
       "      <td>1</td>\n",
       "    </tr>\n",
       "  </tbody>\n",
       "</table>\n",
       "<p>66291 rows × 9348 columns</p>\n",
       "</div>"
      ],
      "text/plain": [
       "        exclusive_use_area     floor  apartment_id_2  apartment_id_5  \\\n",
       "233536            4.077707  2.639057               0               0   \n",
       "309676            4.285516  2.639057               0               0   \n",
       "799304            4.130355  2.079442               0               0   \n",
       "834293            4.064916  2.302585               0               0   \n",
       "656397            4.107425  2.772589               0               0   \n",
       "...                    ...       ...             ...             ...   \n",
       "5458              4.443239  2.484907               0               0   \n",
       "5459              4.453533  2.197225               0               0   \n",
       "5460              4.711222  3.332205               0               0   \n",
       "5461              4.537320  1.791759               0               0   \n",
       "5462              4.450152  2.484907               0               0   \n",
       "\n",
       "        apartment_id_12  apartment_id_14  apartment_id_17  apartment_id_18  \\\n",
       "233536                0                0                0                0   \n",
       "309676                0                0                0                0   \n",
       "799304                0                0                0                0   \n",
       "834293                0                0                0                0   \n",
       "656397                0                0                0                0   \n",
       "...                 ...              ...              ...              ...   \n",
       "5458                  0                0                0                0   \n",
       "5459                  0                0                0                0   \n",
       "5460                  0                0                0                0   \n",
       "5461                  0                0                0                0   \n",
       "5462                  0                0                0                0   \n",
       "\n",
       "        apartment_id_19  apartment_id_20  ...  transaction_year_month_2008  \\\n",
       "233536                0                0  ...                            0   \n",
       "309676                0                0  ...                            0   \n",
       "799304                0                0  ...                            1   \n",
       "834293                0                0  ...                            0   \n",
       "656397                0                0  ...                            0   \n",
       "...                 ...              ...  ...                          ...   \n",
       "5458                  0                0  ...                            0   \n",
       "5459                  0                0  ...                            0   \n",
       "5460                  0                0  ...                            0   \n",
       "5461                  0                0  ...                            0   \n",
       "5462                  0                0  ...                            0   \n",
       "\n",
       "        transaction_year_month_2009  transaction_year_month_2010  \\\n",
       "233536                            0                            0   \n",
       "309676                            1                            0   \n",
       "799304                            0                            0   \n",
       "834293                            0                            0   \n",
       "656397                            0                            0   \n",
       "...                             ...                          ...   \n",
       "5458                              0                            0   \n",
       "5459                              0                            0   \n",
       "5460                              0                            0   \n",
       "5461                              0                            0   \n",
       "5462                              0                            0   \n",
       "\n",
       "        transaction_year_month_2011  transaction_year_month_2012  \\\n",
       "233536                            0                            0   \n",
       "309676                            0                            0   \n",
       "799304                            0                            0   \n",
       "834293                            0                            0   \n",
       "656397                            0                            1   \n",
       "...                             ...                          ...   \n",
       "5458                              0                            0   \n",
       "5459                              0                            0   \n",
       "5460                              0                            0   \n",
       "5461                              0                            0   \n",
       "5462                              0                            0   \n",
       "\n",
       "        transaction_year_month_2013  transaction_year_month_2014  \\\n",
       "233536                            0                            0   \n",
       "309676                            0                            0   \n",
       "799304                            0                            0   \n",
       "834293                            0                            0   \n",
       "656397                            0                            0   \n",
       "...                             ...                          ...   \n",
       "5458                              0                            0   \n",
       "5459                              0                            0   \n",
       "5460                              0                            0   \n",
       "5461                              0                            0   \n",
       "5462                              0                            0   \n",
       "\n",
       "        transaction_year_month_2015  transaction_year_month_2016  \\\n",
       "233536                            0                            1   \n",
       "309676                            0                            0   \n",
       "799304                            0                            0   \n",
       "834293                            1                            0   \n",
       "656397                            0                            0   \n",
       "...                             ...                          ...   \n",
       "5458                              0                            0   \n",
       "5459                              0                            0   \n",
       "5460                              0                            0   \n",
       "5461                              0                            0   \n",
       "5462                              0                            0   \n",
       "\n",
       "        transaction_year_month_2017  \n",
       "233536                            0  \n",
       "309676                            0  \n",
       "799304                            0  \n",
       "834293                            0  \n",
       "656397                            0  \n",
       "...                             ...  \n",
       "5458                              1  \n",
       "5459                              1  \n",
       "5460                              1  \n",
       "5461                              1  \n",
       "5462                              1  \n",
       "\n",
       "[66291 rows x 9348 columns]"
      ]
     },
     "execution_count": 80,
     "metadata": {},
     "output_type": "execute_result"
    }
   ],
   "source": [
    "whole_X_onehot"
   ]
  },
  {
   "cell_type": "code",
   "execution_count": 81,
   "id": "b7ce24e4-19a9-41b2-b76e-f04c4c33caa4",
   "metadata": {},
   "outputs": [
    {
     "data": {
      "text/plain": [
       "count     60828.000000\n",
       "mean      38250.835027\n",
       "std       31332.999667\n",
       "min        1000.000000\n",
       "25%       19000.000000\n",
       "50%       31000.000000\n",
       "75%       47000.000000\n",
       "max      650000.000000\n",
       "Name: transaction_real_price, dtype: float64"
      ]
     },
     "execution_count": 81,
     "metadata": {},
     "output_type": "execute_result"
    }
   ],
   "source": [
    "train_y.describe()"
   ]
  },
  {
   "cell_type": "code",
   "execution_count": 82,
   "id": "65902047-2e7b-4874-b271-ceacad1e90b6",
   "metadata": {},
   "outputs": [
    {
     "name": "stdout",
     "output_type": "stream",
     "text": [
      "train_y -> Skewness: 3.526791, Kurtosis: 24.890904\n"
     ]
    },
    {
     "data": {
      "image/png": "[encoded data removed]",
      "text/plain": [
       "<Figure size 800x600 with 1 Axes>"
      ]
     },
     "metadata": {},
     "output_type": "display_data"
    }
   ],
   "source": [
    "f, ax = plt.subplots(figsize = (8,6))\n",
    "sns.histplot(train_y)\n",
    "print(\"%s -> Skewness: %f, Kurtosis: %f\" %  ('train_y', train_y.skew(), train_y.kurt()))"
   ]
  },
  {
   "cell_type": "code",
   "execution_count": 83,
   "id": "e45b8a3a-80b2-4c21-bfbb-67d0217f6947",
   "metadata": {},
   "outputs": [
    {
     "name": "stdout",
     "output_type": "stream",
     "text": [
      "train_y -> Skewness: -0.087722, Kurtosis: 0.246559\n"
     ]
    }
   ],
   "source": [
    "train_y = np.log1p(train_y)\n",
    "print(\"%s -> Skewness: %f, Kurtosis: %f\" %  ('train_y', train_y.skew(), train_y.kurt()))"
   ]
  },
  {
   "cell_type": "code",
   "execution_count": 84,
   "id": "f9514059-b890-4cd4-be13-10f3be767173",
   "metadata": {},
   "outputs": [
    {
     "data": {
      "text/plain": [
       "<AxesSubplot:xlabel='transaction_real_price', ylabel='Count'>"
      ]
     },
     "execution_count": 84,
     "metadata": {},
     "output_type": "execute_result"
    },
    {
     "data": {
      "image/png": "[encoded data removed]",
      "text/plain": [
       "<Figure size 800x600 with 1 Axes>"
      ]
     },
     "metadata": {},
     "output_type": "display_data"
    }
   ],
   "source": [
    "f, ax = plt.subplots(figsize = (8,6))\n",
    "sns.histplot(train_y)"
   ]
  },
  {
   "cell_type": "code",
   "execution_count": 85,
   "id": "014b4931-240a-4f66-a30e-3869fcc3a8cf",
   "metadata": {
    "tags": []
   },
   "outputs": [
    {
     "name": "stdout",
     "output_type": "stream",
     "text": [
      "(60828, 9348)\n",
      "(5463, 9348)\n"
     ]
    }
   ],
   "source": [
    "train_X = whole_X_onehot.iloc[:len(train), :]\n",
    "test_X = whole_X_onehot.iloc[len(train):, :]\n",
    "\n",
    "print(train_X.shape)\n",
    "print(test_X.shape)"
   ]
  },
  {
   "cell_type": "code",
   "execution_count": 86,
   "id": "a1e39114-9a5f-4943-ad12-d748e2e78cb8",
   "metadata": {
    "tags": []
   },
   "outputs": [
    {
     "data": {
      "text/html": [
       "<div>\n",
       "<style scoped>\n",
       "    .dataframe tbody tr th:only-of-type {\n",
       "        vertical-align: middle;\n",
       "    }\n",
       "\n",
       "    .dataframe tbody tr th {\n",
       "        vertical-align: top;\n",
       "    }\n",
       "\n",
       "    .dataframe thead th {\n",
       "        text-align: right;\n",
       "    }\n",
       "</style>\n",
       "<table border=\"1\" class=\"dataframe\">\n",
       "  <thead>\n",
       "    <tr style=\"text-align: right;\">\n",
       "      <th></th>\n",
       "      <th>exclusive_use_area</th>\n",
       "      <th>floor</th>\n",
       "      <th>apartment_id_2</th>\n",
       "      <th>apartment_id_5</th>\n",
       "      <th>apartment_id_12</th>\n",
       "      <th>apartment_id_14</th>\n",
       "      <th>apartment_id_17</th>\n",
       "      <th>apartment_id_18</th>\n",
       "      <th>apartment_id_19</th>\n",
       "      <th>apartment_id_20</th>\n",
       "      <th>...</th>\n",
       "      <th>transaction_year_month_2008</th>\n",
       "      <th>transaction_year_month_2009</th>\n",
       "      <th>transaction_year_month_2010</th>\n",
       "      <th>transaction_year_month_2011</th>\n",
       "      <th>transaction_year_month_2012</th>\n",
       "      <th>transaction_year_month_2013</th>\n",
       "      <th>transaction_year_month_2014</th>\n",
       "      <th>transaction_year_month_2015</th>\n",
       "      <th>transaction_year_month_2016</th>\n",
       "      <th>transaction_year_month_2017</th>\n",
       "    </tr>\n",
       "  </thead>\n",
       "  <tbody>\n",
       "    <tr>\n",
       "      <th>233536</th>\n",
       "      <td>4.077707</td>\n",
       "      <td>2.639057</td>\n",
       "      <td>0</td>\n",
       "      <td>0</td>\n",
       "      <td>0</td>\n",
       "      <td>0</td>\n",
       "      <td>0</td>\n",
       "      <td>0</td>\n",
       "      <td>0</td>\n",
       "      <td>0</td>\n",
       "      <td>...</td>\n",
       "      <td>0</td>\n",
       "      <td>0</td>\n",
       "      <td>0</td>\n",
       "      <td>0</td>\n",
       "      <td>0</td>\n",
       "      <td>0</td>\n",
       "      <td>0</td>\n",
       "      <td>0</td>\n",
       "      <td>1</td>\n",
       "      <td>0</td>\n",
       "    </tr>\n",
       "    <tr>\n",
       "      <th>309676</th>\n",
       "      <td>4.285516</td>\n",
       "      <td>2.639057</td>\n",
       "      <td>0</td>\n",
       "      <td>0</td>\n",
       "      <td>0</td>\n",
       "      <td>0</td>\n",
       "      <td>0</td>\n",
       "      <td>0</td>\n",
       "      <td>0</td>\n",
       "      <td>0</td>\n",
       "      <td>...</td>\n",
       "      <td>0</td>\n",
       "      <td>1</td>\n",
       "      <td>0</td>\n",
       "      <td>0</td>\n",
       "      <td>0</td>\n",
       "      <td>0</td>\n",
       "      <td>0</td>\n",
       "      <td>0</td>\n",
       "      <td>0</td>\n",
       "      <td>0</td>\n",
       "    </tr>\n",
       "    <tr>\n",
       "      <th>799304</th>\n",
       "      <td>4.130355</td>\n",
       "      <td>2.079442</td>\n",
       "      <td>0</td>\n",
       "      <td>0</td>\n",
       "      <td>0</td>\n",
       "      <td>0</td>\n",
       "      <td>0</td>\n",
       "      <td>0</td>\n",
       "      <td>0</td>\n",
       "      <td>0</td>\n",
       "      <td>...</td>\n",
       "      <td>1</td>\n",
       "      <td>0</td>\n",
       "      <td>0</td>\n",
       "      <td>0</td>\n",
       "      <td>0</td>\n",
       "      <td>0</td>\n",
       "      <td>0</td>\n",
       "      <td>0</td>\n",
       "      <td>0</td>\n",
       "      <td>0</td>\n",
       "    </tr>\n",
       "    <tr>\n",
       "      <th>834293</th>\n",
       "      <td>4.064916</td>\n",
       "      <td>2.302585</td>\n",
       "      <td>0</td>\n",
       "      <td>0</td>\n",
       "      <td>0</td>\n",
       "      <td>0</td>\n",
       "      <td>0</td>\n",
       "      <td>0</td>\n",
       "      <td>0</td>\n",
       "      <td>0</td>\n",
       "      <td>...</td>\n",
       "      <td>0</td>\n",
       "      <td>0</td>\n",
       "      <td>0</td>\n",
       "      <td>0</td>\n",
       "      <td>0</td>\n",
       "      <td>0</td>\n",
       "      <td>0</td>\n",
       "      <td>1</td>\n",
       "      <td>0</td>\n",
       "      <td>0</td>\n",
       "    </tr>\n",
       "    <tr>\n",
       "      <th>656397</th>\n",
       "      <td>4.107425</td>\n",
       "      <td>2.772589</td>\n",
       "      <td>0</td>\n",
       "      <td>0</td>\n",
       "      <td>0</td>\n",
       "      <td>0</td>\n",
       "      <td>0</td>\n",
       "      <td>0</td>\n",
       "      <td>0</td>\n",
       "      <td>0</td>\n",
       "      <td>...</td>\n",
       "      <td>0</td>\n",
       "      <td>0</td>\n",
       "      <td>0</td>\n",
       "      <td>0</td>\n",
       "      <td>1</td>\n",
       "      <td>0</td>\n",
       "      <td>0</td>\n",
       "      <td>0</td>\n",
       "      <td>0</td>\n",
       "      <td>0</td>\n",
       "    </tr>\n",
       "  </tbody>\n",
       "</table>\n",
       "<p>5 rows × 9348 columns</p>\n",
       "</div>"
      ],
      "text/plain": [
       "        exclusive_use_area     floor  apartment_id_2  apartment_id_5  \\\n",
       "233536            4.077707  2.639057               0               0   \n",
       "309676            4.285516  2.639057               0               0   \n",
       "799304            4.130355  2.079442               0               0   \n",
       "834293            4.064916  2.302585               0               0   \n",
       "656397            4.107425  2.772589               0               0   \n",
       "\n",
       "        apartment_id_12  apartment_id_14  apartment_id_17  apartment_id_18  \\\n",
       "233536                0                0                0                0   \n",
       "309676                0                0                0                0   \n",
       "799304                0                0                0                0   \n",
       "834293                0                0                0                0   \n",
       "656397                0                0                0                0   \n",
       "\n",
       "        apartment_id_19  apartment_id_20  ...  transaction_year_month_2008  \\\n",
       "233536                0                0  ...                            0   \n",
       "309676                0                0  ...                            0   \n",
       "799304                0                0  ...                            1   \n",
       "834293                0                0  ...                            0   \n",
       "656397                0                0  ...                            0   \n",
       "\n",
       "        transaction_year_month_2009  transaction_year_month_2010  \\\n",
       "233536                            0                            0   \n",
       "309676                            1                            0   \n",
       "799304                            0                            0   \n",
       "834293                            0                            0   \n",
       "656397                            0                            0   \n",
       "\n",
       "        transaction_year_month_2011  transaction_year_month_2012  \\\n",
       "233536                            0                            0   \n",
       "309676                            0                            0   \n",
       "799304                            0                            0   \n",
       "834293                            0                            0   \n",
       "656397                            0                            1   \n",
       "\n",
       "        transaction_year_month_2013  transaction_year_month_2014  \\\n",
       "233536                            0                            0   \n",
       "309676                            0                            0   \n",
       "799304                            0                            0   \n",
       "834293                            0                            0   \n",
       "656397                            0                            0   \n",
       "\n",
       "        transaction_year_month_2015  transaction_year_month_2016  \\\n",
       "233536                            0                            1   \n",
       "309676                            0                            0   \n",
       "799304                            0                            0   \n",
       "834293                            1                            0   \n",
       "656397                            0                            0   \n",
       "\n",
       "        transaction_year_month_2017  \n",
       "233536                            0  \n",
       "309676                            0  \n",
       "799304                            0  \n",
       "834293                            0  \n",
       "656397                            0  \n",
       "\n",
       "[5 rows x 9348 columns]"
      ]
     },
     "execution_count": 86,
     "metadata": {},
     "output_type": "execute_result"
    }
   ],
   "source": [
    "train_X.head()"
   ]
  },
  {
   "cell_type": "code",
   "execution_count": 87,
   "id": "8476f15e-17e0-4e4e-aab4-8ee94716b7e2",
   "metadata": {},
   "outputs": [],
   "source": [
    "def my_GridSearch(model, train_X, train_y, param_grid, verbose=2, n_jobs=7):\n",
    "    grid_model = GridSearchCV(model, param_grid=param_grid, scoring='neg_mean_squared_error', \\\n",
    "                              cv=5, verbose=verbose, n_jobs=n_jobs)\n",
    "\n",
    "    # 모델 fitting\n",
    "    grid_model.fit(train_X, train_y)\n",
    "\n",
    "    # 퍙기 결과 저장\n",
    "    params = grid_model.cv_results_['params']\n",
    "    score = grid_model.cv_results_['mean_test_score']\n",
    "\n",
    "    # 평가 결과를 담을 데이터 프레임 생성\n",
    "    results = pd.DataFrame(params)\n",
    "    results['score'] = score\n",
    "\n",
    "    # RMSLE 값 계산 후 정렬\n",
    "    results['RMSLE'] = np.sqrt(-results['score'])\n",
    "    results = results.sort_values('RMSLE')\n",
    "\n",
    "    return results"
   ]
  },
  {
   "cell_type": "code",
   "execution_count": 88,
   "id": "42b96b6a-e2fb-4889-ba3d-32f33cd5355a",
   "metadata": {},
   "outputs": [],
   "source": [
    "random_state = 9"
   ]
  },
  {
   "cell_type": "code",
   "execution_count": 89,
   "id": "c0bc0b7f-7e87-467a-a285-1055efec55d5",
   "metadata": {
    "tags": []
   },
   "outputs": [],
   "source": [
    "# model = LGBMRegressor(random_state=random_state)\n",
    "\n",
    "# param_grid = {\n",
    "#     'n_estimators': [2400, 2500], # 2500\n",
    "#     'max_depth': [20, 19], # 19\n",
    "#     # 'num_leaves': [34, 35], # 35\n",
    "#     # 'min_child_samples': [16, 18], # 18\n",
    "# }\n",
    "# my_GridSearch(model, train_X, train_y, param_grid, verbose=2, n_jobs=7)"
   ]
  },
  {
   "cell_type": "code",
   "execution_count": 90,
   "id": "3927a66b-e6cc-4733-bb42-d4abd588c544",
   "metadata": {},
   "outputs": [],
   "source": [
    "def tsize(train_X): # 지극히 주관적인 적당한 test size 값 찾는 함수\n",
    "    length = len(train_X)\n",
    "    return round(0.14 * (1 + length / 10 ** 4) ** (10 ** 4 / length) - 0.13, 2)"
   ]
  },
  {
   "cell_type": "code",
   "execution_count": 91,
   "id": "3742d1b1-be33-4c78-a255-6815afde3c4f",
   "metadata": {},
   "outputs": [],
   "source": [
    "def rmse(y_test, y_pred): # RMSE 손실 함수\n",
    "    # 로그를 씌웠던 레이블에 다시 지수를 씌워서 스케일을 원상복구하고 평가하기\n",
    "    return np.sqrt(mean_squared_error(np.expm1(y_test), np.expm1(y_pred)))"
   ]
  },
  {
   "cell_type": "code",
   "execution_count": 92,
   "id": "d3a632f2-34e2-46e6-aa90-8c1ef3ff2a75",
   "metadata": {
    "tags": []
   },
   "outputs": [],
   "source": [
    "def get_scores(models, train_X, train_y):\n",
    "    scores = {}\n",
    "    \n",
    "    for model in models:\n",
    "        model_name = model.__class__.__name__\n",
    "        \n",
    "        X_train, X_test, y_train, y_test = train_test_split(train_X, train_y, random_state=random_state, test_size=tsize(train_X))\n",
    "        \n",
    "        scaler = RobustScaler() # 표준화 스케일러\n",
    "        X_train = scaler.fit_transform(X_train) # X_train 데이터를 fit과 동시에 transform\n",
    "        X_test = scaler.transform(X_test) # X_test 데이터를 transform\n",
    "        \n",
    "        model.fit(X_train, y_train)\n",
    "        y_pred = model.predict(X_test)\n",
    "        \n",
    "        scores[model_name] = rmse(y_test, y_pred) # 모델 별 RMSE 값 계산\n",
    "        scores_df = pd.DataFrame(scores, index=['RMSE']).T.sort_values('RMSE', ascending=False)\n",
    "\n",
    "    return scores_df"
   ]
  },
  {
   "cell_type": "code",
   "execution_count": 93,
   "id": "91bf9d44-70b0-40f6-bfdf-64a51ca0c515",
   "metadata": {},
   "outputs": [],
   "source": [
    "def save_submission(last_model, train_X, train_y, test_X, n):\n",
    "    last_model.fit(train_X, train_y)\n",
    "    test_y = last_model.predict(test_X)\n",
    "    test_y = np.expm1(test_y) # 스케일 원상복구\n",
    "    data_dir = os.getenv('USERPROFILE')+'\\OneDrive - 수원대학교\\Office\\AIFFEL\\Workspace\\Project\\Datathon\\data'\n",
    "    # data_dir = '/content/drive/MyDrive/AIFFEL/Workspace/Project/Datathon/data'\n",
    "    submission_path = join(data_dir, 'submission.csv')\n",
    "    submission = pd.read_csv(submission_path)\n",
    "    submission['transaction_real_price'] = test_y\n",
    "\n",
    "    submission_csv_path = '{}\\submission_{}.csv'.format(data_dir, n)\n",
    "    # submission_csv_path = '{}/submission_{}.csv'.format(data_dir, n)\n",
    "    submission.to_csv(submission_csv_path, index=False)\n",
    "    print('{} saved!'.format(submission_csv_path))"
   ]
  },
  {
   "cell_type": "code",
   "execution_count": 94,
   "id": "cb5847f2-d927-4994-90cf-e00b90a354c2",
   "metadata": {},
   "outputs": [],
   "source": [
    "last_model = LGBMRegressor(max_depth=20, n_estimators=2500, min_child_samples=16, num_leaves=35)"
   ]
  },
  {
   "cell_type": "code",
   "execution_count": 96,
   "id": "e895d96a-0ee7-43a7-87c7-40ab2e4509fa",
   "metadata": {},
   "outputs": [
    {
     "name": "stdout",
     "output_type": "stream",
     "text": [
      "C:\\Users\\Hugh\\OneDrive - 수원대학교\\Office\\AIFFEL\\Workspace\\Project\\Datathon\\data\\submission_1.csv saved!\n"
     ]
    }
   ],
   "source": [
    "save_submission(last_model, train_X, train_y, test_X, 1)"
   ]
  },
  {
   "cell_type": "code",
   "execution_count": null,
   "id": "bcb81004-4aa3-44b7-834d-f20c49d566ec",
   "metadata": {},
   "outputs": [],
   "source": []
  }
 ],
 "metadata": {
  "kernelspec": {
   "display_name": "Python 3 (ipykernel)",
   "language": "python",
   "name": "python3"
  },
  "language_info": {
   "codemirror_mode": {
    "name": "ipython",
    "version": 3
   },
   "file_extension": ".py",
   "mimetype": "text/x-python",
   "name": "python",
   "nbconvert_exporter": "python",
   "pygments_lexer": "ipython3",
   "version": "3.9.13"
  }
 },
 "nbformat": 4,
 "nbformat_minor": 5
}

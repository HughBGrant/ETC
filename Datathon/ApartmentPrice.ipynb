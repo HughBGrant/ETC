{
 "cells": [
  {
   "cell_type": "markdown",
   "id": "105e1a60-25db-4293-a697-d0119bbe9f4a",
   "metadata": {
    "tags": []
   },
   "source": [
    "# 0. 프로젝트 정의하기!"
   ]
  },
  {
   "cell_type": "markdown",
   "id": "9c05d586-b216-4b54-9cdd-dbcd782741f8",
   "metadata": {},
   "source": []
  },
  {
   "cell_type": "markdown",
   "id": "cca28a41-5ae2-43e1-a66c-51cd67f0b2f3",
   "metadata": {},
   "source": [
    "# 1. 데이터 확인하기!"
   ]
  },
  {
   "cell_type": "code",
   "execution_count": 43,
   "id": "d5a98ce6-4a64-4de0-aa62-c2ba8e3eceb4",
   "metadata": {
    "id": "UEeIR8KHLPRY"
   },
   "outputs": [],
   "source": [
    "import warnings\n",
    "warnings.filterwarnings('ignore')\n",
    "import os\n",
    "from os.path import join\n",
    "\n",
    "from tqdm import tqdm #진행률바\n",
    "import re\n",
    "import optuna\n",
    "from optuna.integration import XGBoostPruningCallback\n",
    "\n",
    "import pandas as pd\n",
    "import numpy as np\n",
    "import matplotlib.pyplot as plt\n",
    "import seaborn as sns\n",
    "import bisect\n",
    "\n",
    "from sklearn.preprocessing import  LabelEncoder #문자를 숫자로 인코딩\n",
    "from sklearn.model_selection import TimeSeriesSplit #변수n을 입력, n번의 반복으로 교차검즘을 할 것인지 정하는 것\n",
    "\n",
    "from sklearn.linear_model import LinearRegression, ElasticNet, Lasso, Ridge #선형 모델\n",
    "from sklearn.tree import DecisionTreeRegressor\n",
    "from sklearn.ensemble import RandomForestRegressor\n",
    "from lightgbm import LGBMRegressor\n",
    "\n",
    "from sklearn.model_selection import train_test_split\n",
    "from sklearn.model_selection import GridSearchCV\n",
    "from sklearn.preprocessing import RobustScaler\n",
    "from sklearn.metrics import mean_squared_error"
   ]
  },
  {
   "cell_type": "code",
   "execution_count": 3,
   "id": "08301bd3-6d4f-4484-81b4-97bb3213fd2b",
   "metadata": {},
   "outputs": [
    {
     "name": "stdout",
     "output_type": "stream",
     "text": [
      "1.4.3\n"
     ]
    }
   ],
   "source": [
    "print(pd.__version__)"
   ]
  },
  {
   "cell_type": "code",
   "execution_count": 4,
   "id": "0898dd69-c54a-419d-b42e-83a04ad5e961",
   "metadata": {
    "colab": {
     "base_uri": "https://localhost:8080/"
    },
    "id": "qUedtydHJN_0",
    "outputId": "ee1fb8f1-d96c-40ab-e07b-0a7080577cf8"
   },
   "outputs": [],
   "source": [
    "# 코랩\n",
    "# from google.colab import drive\n",
    "# drive.mount('/content/drive')\n",
    "# data_dir = '/content/drive/MyDrive/AIFFEL/Workspace/Project/Datathon/data'\n",
    "\n",
    "# 로컬\n",
    "data_dir = os.getenv('USERPROFILE') + '\\OneDrive - 수원대학교\\Office\\AIFFEL\\Workspace\\Project\\Datathon\\data'"
   ]
  },
  {
   "cell_type": "code",
   "execution_count": 5,
   "id": "abba2f3b-1a6f-4a06-90c4-deb8df6fad03",
   "metadata": {
    "colab": {
     "base_uri": "https://localhost:8080/"
    },
    "id": "8sVYln89LZVl",
    "outputId": "60a02ac0-3c41-4824-c1e5-62a9f7d4bb92"
   },
   "outputs": [
    {
     "name": "stdout",
     "output_type": "stream",
     "text": [
      "(1216553, 13) (5463, 12)\n"
     ]
    }
   ],
   "source": [
    "train_path = join(data_dir, 'train.csv')\n",
    "test_path = join(data_dir, 'test.csv')\n",
    "\n",
    "train = pd.read_csv(train_path, index_col=0).reset_index(drop=True)\n",
    "test_X = pd.read_csv(test_path, index_col=0).reset_index(drop=True)\n",
    "\n",
    "print(train.shape, test_X.shape)"
   ]
  },
  {
   "cell_type": "code",
   "execution_count": 6,
   "id": "291e8d68-db6a-415a-9f99-d5688e0a16e2",
   "metadata": {},
   "outputs": [
    {
     "data": {
      "text/plain": [
       "(123456, 13)"
      ]
     },
     "execution_count": 6,
     "metadata": {},
     "output_type": "execute_result"
    }
   ],
   "source": [
    "train_copy = train.copy()\n",
    "\n",
    "## 표본 추출을 통해 train 데이터의 수를 줄이겠습니다.\n",
    "train = train.sample(n=123456, random_state=9)\n",
    "train.shape"
   ]
  },
  {
   "cell_type": "code",
   "execution_count": 7,
   "id": "060545e3-b8f2-4431-8654-f6f5ed7bcc0c",
   "metadata": {},
   "outputs": [
    {
     "data": {
      "text/html": [
       "<div>\n",
       "<style scoped>\n",
       "    .dataframe tbody tr th:only-of-type {\n",
       "        vertical-align: middle;\n",
       "    }\n",
       "\n",
       "    .dataframe tbody tr th {\n",
       "        vertical-align: top;\n",
       "    }\n",
       "\n",
       "    .dataframe thead th {\n",
       "        text-align: right;\n",
       "    }\n",
       "</style>\n",
       "<table border=\"1\" class=\"dataframe\">\n",
       "  <thead>\n",
       "    <tr style=\"text-align: right;\">\n",
       "      <th></th>\n",
       "      <th>apartment_id</th>\n",
       "      <th>city</th>\n",
       "      <th>gu</th>\n",
       "      <th>dong</th>\n",
       "      <th>jibun</th>\n",
       "      <th>apt</th>\n",
       "      <th>addr_kr</th>\n",
       "      <th>exclusive_use_area</th>\n",
       "      <th>year_of_completion</th>\n",
       "      <th>transaction_year_month</th>\n",
       "      <th>transaction_date</th>\n",
       "      <th>floor</th>\n",
       "      <th>transaction_real_price</th>\n",
       "    </tr>\n",
       "  </thead>\n",
       "  <tbody>\n",
       "    <tr>\n",
       "      <th>233536</th>\n",
       "      <td>5959</td>\n",
       "      <td>서울특별시</td>\n",
       "      <td>노원구</td>\n",
       "      <td>상계동</td>\n",
       "      <td>720</td>\n",
       "      <td>상계주공6(고층)</td>\n",
       "      <td>상계동 720 상계주공6(고층)</td>\n",
       "      <td>58.01</td>\n",
       "      <td>1988</td>\n",
       "      <td>201605</td>\n",
       "      <td>11~20</td>\n",
       "      <td>9</td>\n",
       "      <td>30000</td>\n",
       "    </tr>\n",
       "    <tr>\n",
       "      <th>309676</th>\n",
       "      <td>4399</td>\n",
       "      <td>서울특별시</td>\n",
       "      <td>강서구</td>\n",
       "      <td>신정동</td>\n",
       "      <td>326</td>\n",
       "      <td>목동신시가지12</td>\n",
       "      <td>신정동 326 목동신시가지12</td>\n",
       "      <td>71.64</td>\n",
       "      <td>1988</td>\n",
       "      <td>200908</td>\n",
       "      <td>21~31</td>\n",
       "      <td>9</td>\n",
       "      <td>59800</td>\n",
       "    </tr>\n",
       "    <tr>\n",
       "      <th>799304</th>\n",
       "      <td>1334</td>\n",
       "      <td>부산광역시</td>\n",
       "      <td>북구</td>\n",
       "      <td>구포동</td>\n",
       "      <td>1103-2</td>\n",
       "      <td>구포현대</td>\n",
       "      <td>구포동 1103-2 구포현대</td>\n",
       "      <td>61.20</td>\n",
       "      <td>1994</td>\n",
       "      <td>200803</td>\n",
       "      <td>1~10</td>\n",
       "      <td>3</td>\n",
       "      <td>8200</td>\n",
       "    </tr>\n",
       "    <tr>\n",
       "      <th>834293</th>\n",
       "      <td>8752</td>\n",
       "      <td>부산광역시</td>\n",
       "      <td>북구</td>\n",
       "      <td>화명동</td>\n",
       "      <td>1426-1</td>\n",
       "      <td>우신</td>\n",
       "      <td>화명동 1426-1 우신</td>\n",
       "      <td>57.26</td>\n",
       "      <td>1987</td>\n",
       "      <td>201503</td>\n",
       "      <td>11~20</td>\n",
       "      <td>5</td>\n",
       "      <td>16100</td>\n",
       "    </tr>\n",
       "    <tr>\n",
       "      <th>656397</th>\n",
       "      <td>6914</td>\n",
       "      <td>부산광역시</td>\n",
       "      <td>서구</td>\n",
       "      <td>암남동</td>\n",
       "      <td>81-12</td>\n",
       "      <td>송도자유비치</td>\n",
       "      <td>암남동 81-12 송도자유비치</td>\n",
       "      <td>59.79</td>\n",
       "      <td>1997</td>\n",
       "      <td>201202</td>\n",
       "      <td>11~20</td>\n",
       "      <td>11</td>\n",
       "      <td>10000</td>\n",
       "    </tr>\n",
       "  </tbody>\n",
       "</table>\n",
       "</div>"
      ],
      "text/plain": [
       "        apartment_id   city   gu dong   jibun        apt            addr_kr  \\\n",
       "233536          5959  서울특별시  노원구  상계동     720  상계주공6(고층)  상계동 720 상계주공6(고층)   \n",
       "309676          4399  서울특별시  강서구  신정동     326   목동신시가지12   신정동 326 목동신시가지12   \n",
       "799304          1334  부산광역시   북구  구포동  1103-2       구포현대    구포동 1103-2 구포현대   \n",
       "834293          8752  부산광역시   북구  화명동  1426-1         우신      화명동 1426-1 우신   \n",
       "656397          6914  부산광역시   서구  암남동   81-12     송도자유비치   암남동 81-12 송도자유비치   \n",
       "\n",
       "        exclusive_use_area  year_of_completion  transaction_year_month  \\\n",
       "233536               58.01                1988                  201605   \n",
       "309676               71.64                1988                  200908   \n",
       "799304               61.20                1994                  200803   \n",
       "834293               57.26                1987                  201503   \n",
       "656397               59.79                1997                  201202   \n",
       "\n",
       "       transaction_date  floor  transaction_real_price  \n",
       "233536            11~20      9                   30000  \n",
       "309676            21~31      9                   59800  \n",
       "799304             1~10      3                    8200  \n",
       "834293            11~20      5                   16100  \n",
       "656397            11~20     11                   10000  "
      ]
     },
     "execution_count": 7,
     "metadata": {},
     "output_type": "execute_result"
    }
   ],
   "source": [
    "train.head()"
   ]
  },
  {
   "cell_type": "code",
   "execution_count": 8,
   "id": "7c5ddf01-3963-4e3a-9b96-3afd73fc5541",
   "metadata": {},
   "outputs": [
    {
     "data": {
      "text/html": [
       "<div>\n",
       "<style scoped>\n",
       "    .dataframe tbody tr th:only-of-type {\n",
       "        vertical-align: middle;\n",
       "    }\n",
       "\n",
       "    .dataframe tbody tr th {\n",
       "        vertical-align: top;\n",
       "    }\n",
       "\n",
       "    .dataframe thead th {\n",
       "        text-align: right;\n",
       "    }\n",
       "</style>\n",
       "<table border=\"1\" class=\"dataframe\">\n",
       "  <thead>\n",
       "    <tr style=\"text-align: right;\">\n",
       "      <th></th>\n",
       "      <th>apartment_id</th>\n",
       "      <th>city</th>\n",
       "      <th>gu</th>\n",
       "      <th>dong</th>\n",
       "      <th>jibun</th>\n",
       "      <th>apt</th>\n",
       "      <th>addr_kr</th>\n",
       "      <th>exclusive_use_area</th>\n",
       "      <th>year_of_completion</th>\n",
       "      <th>transaction_year_month</th>\n",
       "      <th>transaction_date</th>\n",
       "      <th>floor</th>\n",
       "    </tr>\n",
       "  </thead>\n",
       "  <tbody>\n",
       "    <tr>\n",
       "      <th>0</th>\n",
       "      <td>10453</td>\n",
       "      <td>서울특별시</td>\n",
       "      <td>강서구</td>\n",
       "      <td>목동</td>\n",
       "      <td>938</td>\n",
       "      <td>청학</td>\n",
       "      <td>목동 938 청학</td>\n",
       "      <td>35.5500</td>\n",
       "      <td>2002</td>\n",
       "      <td>201711</td>\n",
       "      <td>11~20</td>\n",
       "      <td>2</td>\n",
       "    </tr>\n",
       "    <tr>\n",
       "      <th>1</th>\n",
       "      <td>989</td>\n",
       "      <td>부산광역시</td>\n",
       "      <td>동구</td>\n",
       "      <td>초량동</td>\n",
       "      <td>1143-8</td>\n",
       "      <td>고관맨션</td>\n",
       "      <td>초량동 1143-8 고관맨션</td>\n",
       "      <td>68.7200</td>\n",
       "      <td>1977</td>\n",
       "      <td>201708</td>\n",
       "      <td>21~31</td>\n",
       "      <td>2</td>\n",
       "    </tr>\n",
       "    <tr>\n",
       "      <th>2</th>\n",
       "      <td>8597</td>\n",
       "      <td>부산광역시</td>\n",
       "      <td>사하구</td>\n",
       "      <td>괴정동</td>\n",
       "      <td>447-13</td>\n",
       "      <td>우림그린</td>\n",
       "      <td>괴정동 447-13 우림그린</td>\n",
       "      <td>72.5400</td>\n",
       "      <td>1989</td>\n",
       "      <td>201710</td>\n",
       "      <td>11~20</td>\n",
       "      <td>2</td>\n",
       "    </tr>\n",
       "    <tr>\n",
       "      <th>3</th>\n",
       "      <td>11086</td>\n",
       "      <td>서울특별시</td>\n",
       "      <td>강남구</td>\n",
       "      <td>대치동</td>\n",
       "      <td>1007-2</td>\n",
       "      <td>풍림아이원4차(1007-2)</td>\n",
       "      <td>대치동 1007-2 풍림아이원4차(1007-2)</td>\n",
       "      <td>111.5400</td>\n",
       "      <td>2004</td>\n",
       "      <td>201707</td>\n",
       "      <td>1~10</td>\n",
       "      <td>10</td>\n",
       "    </tr>\n",
       "    <tr>\n",
       "      <th>4</th>\n",
       "      <td>2121</td>\n",
       "      <td>부산광역시</td>\n",
       "      <td>사하구</td>\n",
       "      <td>다대동</td>\n",
       "      <td>1670</td>\n",
       "      <td>다대롯데캐슬블루</td>\n",
       "      <td>다대동 1670 다대롯데캐슬블루</td>\n",
       "      <td>119.6398</td>\n",
       "      <td>2014</td>\n",
       "      <td>201712</td>\n",
       "      <td>11~20</td>\n",
       "      <td>21</td>\n",
       "    </tr>\n",
       "  </tbody>\n",
       "</table>\n",
       "</div>"
      ],
      "text/plain": [
       "   apartment_id   city   gu dong   jibun              apt  \\\n",
       "0         10453  서울특별시  강서구   목동     938               청학   \n",
       "1           989  부산광역시   동구  초량동  1143-8             고관맨션   \n",
       "2          8597  부산광역시  사하구  괴정동  447-13             우림그린   \n",
       "3         11086  서울특별시  강남구  대치동  1007-2  풍림아이원4차(1007-2)   \n",
       "4          2121  부산광역시  사하구  다대동    1670         다대롯데캐슬블루   \n",
       "\n",
       "                      addr_kr  exclusive_use_area  year_of_completion  \\\n",
       "0                   목동 938 청학             35.5500                2002   \n",
       "1             초량동 1143-8 고관맨션             68.7200                1977   \n",
       "2             괴정동 447-13 우림그린             72.5400                1989   \n",
       "3  대치동 1007-2 풍림아이원4차(1007-2)            111.5400                2004   \n",
       "4           다대동 1670 다대롯데캐슬블루            119.6398                2014   \n",
       "\n",
       "   transaction_year_month transaction_date  floor  \n",
       "0                  201711            11~20      2  \n",
       "1                  201708            21~31      2  \n",
       "2                  201710            11~20      2  \n",
       "3                  201707             1~10     10  \n",
       "4                  201712            11~20     21  "
      ]
     },
     "execution_count": 8,
     "metadata": {},
     "output_type": "execute_result"
    }
   ],
   "source": [
    "test_X.head()"
   ]
  },
  {
   "cell_type": "markdown",
   "id": "6e9c72cc-4b38-49d9-8612-3a804f1a22c7",
   "metadata": {},
   "source": [
    "데이터 정보\n",
    "\n",
    "0. apartment_id: 아파트 아이디\n",
    "1. city: 도시\n",
    "2. dong: 동\n",
    "3. jibun: 지번\n",
    "4. apt: 아파트단지 이름\n",
    "5. addr_kr: 주소\n",
    "6. exclusive_use_area: 전용면적\n",
    "7. year_of_completion: 설립일자\n",
    "8. transaction_year_month: 거래년월\n",
    "9. transaction_date: 거래날짜\n",
    "10. floor: 층\n",
    "11. transaction_real_price: 실거래가(train 만 존재)"
   ]
  },
  {
   "cell_type": "code",
   "execution_count": 9,
   "id": "019dbce2-f5d3-46de-8569-cd27a72de6c6",
   "metadata": {},
   "outputs": [
    {
     "data": {
      "text/plain": [
       "<AxesSubplot:>"
      ]
     },
     "execution_count": 9,
     "metadata": {},
     "output_type": "execute_result"
    },
    {
     "data": {
      "image/png": "[encoded data removed]",
      "text/plain": [
       "<Figure size 800x600 with 2 Axes>"
      ]
     },
     "metadata": {},
     "output_type": "display_data"
    }
   ],
   "source": [
    "#상관관계 확인\n",
    "k = train.shape[1] #히트맵 변수 갯수\n",
    "corr_mat = train.corr() #변수간의 상관관계\n",
    "cols = corr_mat.nlargest(k, 'transaction_real_price')['transaction_real_price'].index #price기준으로 제일 큰순서대로 20개를 뽑아냄\n",
    "cm = np.corrcoef(train[cols].values.T)\n",
    "\n",
    "f, ax = plt.subplots(figsize=(8, 6))\n",
    "sns.heatmap(data = cm, annot=True, square=True, fmt = '.2f', linewidths=.5, cmap='Reds', \n",
    "            yticklabels = cols.values, xticklabels = cols.values)"
   ]
  },
  {
   "cell_type": "markdown",
   "id": "e3e45730-755f-400c-8d8b-6a49097455d6",
   "metadata": {
    "tags": []
   },
   "source": [
    "# 2. train, test 데이터 합치기!"
   ]
  },
  {
   "cell_type": "code",
   "execution_count": 10,
   "id": "b7b7f4e9-676c-43a3-885e-d20f9b8a11e0",
   "metadata": {},
   "outputs": [
    {
     "name": "stdout",
     "output_type": "stream",
     "text": [
      "233536    30000\n",
      "309676    59800\n",
      "799304     8200\n",
      "834293    16100\n",
      "656397    10000\n",
      "Name: transaction_real_price, dtype: int64\n",
      "(123456, 13)\n",
      "(123456, 12)\n"
     ]
    }
   ],
   "source": [
    "train_y = train['transaction_real_price']\n",
    "print(train_y.head())\n",
    "\n",
    "print(train.shape)\n",
    "train_X = train.drop('transaction_real_price', axis=1)\n",
    "print(train_X.shape)"
   ]
  },
  {
   "cell_type": "code",
   "execution_count": 11,
   "id": "2c78135d-3e49-4783-ae52-e15f593d316e",
   "metadata": {},
   "outputs": [
    {
     "data": {
      "text/plain": [
       "(128919, 12)"
      ]
     },
     "execution_count": 11,
     "metadata": {},
     "output_type": "execute_result"
    }
   ],
   "source": [
    "whole_X = pd.concat((train_X, test_X), axis=0)\n",
    "whole_X.shape"
   ]
  },
  {
   "cell_type": "code",
   "execution_count": null,
   "id": "2a192f32-458c-4c41-9920-4407959a0147",
   "metadata": {},
   "outputs": [],
   "source": []
  },
  {
   "cell_type": "code",
   "execution_count": 12,
   "id": "b4b9e6c1-b74e-47c4-9030-ac8abc475c90",
   "metadata": {},
   "outputs": [
    {
     "data": {
      "text/html": [
       "<div>\n",
       "<style scoped>\n",
       "    .dataframe tbody tr th:only-of-type {\n",
       "        vertical-align: middle;\n",
       "    }\n",
       "\n",
       "    .dataframe tbody tr th {\n",
       "        vertical-align: top;\n",
       "    }\n",
       "\n",
       "    .dataframe thead th {\n",
       "        text-align: right;\n",
       "    }\n",
       "</style>\n",
       "<table border=\"1\" class=\"dataframe\">\n",
       "  <thead>\n",
       "    <tr style=\"text-align: right;\">\n",
       "      <th></th>\n",
       "      <th>apartment_id</th>\n",
       "      <th>city</th>\n",
       "      <th>gu</th>\n",
       "      <th>dong</th>\n",
       "      <th>jibun</th>\n",
       "      <th>apt</th>\n",
       "      <th>addr_kr</th>\n",
       "      <th>exclusive_use_area</th>\n",
       "      <th>year_of_completion</th>\n",
       "      <th>transaction_year_month</th>\n",
       "      <th>transaction_date</th>\n",
       "      <th>floor</th>\n",
       "    </tr>\n",
       "  </thead>\n",
       "  <tbody>\n",
       "    <tr>\n",
       "      <th>233536</th>\n",
       "      <td>5959</td>\n",
       "      <td>서울특별시</td>\n",
       "      <td>노원구</td>\n",
       "      <td>상계동</td>\n",
       "      <td>720</td>\n",
       "      <td>상계주공6(고층)</td>\n",
       "      <td>상계동 720 상계주공6(고층)</td>\n",
       "      <td>58.01</td>\n",
       "      <td>1988</td>\n",
       "      <td>201605</td>\n",
       "      <td>11~20</td>\n",
       "      <td>9</td>\n",
       "    </tr>\n",
       "    <tr>\n",
       "      <th>309676</th>\n",
       "      <td>4399</td>\n",
       "      <td>서울특별시</td>\n",
       "      <td>강서구</td>\n",
       "      <td>신정동</td>\n",
       "      <td>326</td>\n",
       "      <td>목동신시가지12</td>\n",
       "      <td>신정동 326 목동신시가지12</td>\n",
       "      <td>71.64</td>\n",
       "      <td>1988</td>\n",
       "      <td>200908</td>\n",
       "      <td>21~31</td>\n",
       "      <td>9</td>\n",
       "    </tr>\n",
       "    <tr>\n",
       "      <th>799304</th>\n",
       "      <td>1334</td>\n",
       "      <td>부산광역시</td>\n",
       "      <td>북구</td>\n",
       "      <td>구포동</td>\n",
       "      <td>1103-2</td>\n",
       "      <td>구포현대</td>\n",
       "      <td>구포동 1103-2 구포현대</td>\n",
       "      <td>61.20</td>\n",
       "      <td>1994</td>\n",
       "      <td>200803</td>\n",
       "      <td>1~10</td>\n",
       "      <td>3</td>\n",
       "    </tr>\n",
       "    <tr>\n",
       "      <th>834293</th>\n",
       "      <td>8752</td>\n",
       "      <td>부산광역시</td>\n",
       "      <td>북구</td>\n",
       "      <td>화명동</td>\n",
       "      <td>1426-1</td>\n",
       "      <td>우신</td>\n",
       "      <td>화명동 1426-1 우신</td>\n",
       "      <td>57.26</td>\n",
       "      <td>1987</td>\n",
       "      <td>201503</td>\n",
       "      <td>11~20</td>\n",
       "      <td>5</td>\n",
       "    </tr>\n",
       "    <tr>\n",
       "      <th>656397</th>\n",
       "      <td>6914</td>\n",
       "      <td>부산광역시</td>\n",
       "      <td>서구</td>\n",
       "      <td>암남동</td>\n",
       "      <td>81-12</td>\n",
       "      <td>송도자유비치</td>\n",
       "      <td>암남동 81-12 송도자유비치</td>\n",
       "      <td>59.79</td>\n",
       "      <td>1997</td>\n",
       "      <td>201202</td>\n",
       "      <td>11~20</td>\n",
       "      <td>11</td>\n",
       "    </tr>\n",
       "  </tbody>\n",
       "</table>\n",
       "</div>"
      ],
      "text/plain": [
       "        apartment_id   city   gu dong   jibun        apt            addr_kr  \\\n",
       "233536          5959  서울특별시  노원구  상계동     720  상계주공6(고층)  상계동 720 상계주공6(고층)   \n",
       "309676          4399  서울특별시  강서구  신정동     326   목동신시가지12   신정동 326 목동신시가지12   \n",
       "799304          1334  부산광역시   북구  구포동  1103-2       구포현대    구포동 1103-2 구포현대   \n",
       "834293          8752  부산광역시   북구  화명동  1426-1         우신      화명동 1426-1 우신   \n",
       "656397          6914  부산광역시   서구  암남동   81-12     송도자유비치   암남동 81-12 송도자유비치   \n",
       "\n",
       "        exclusive_use_area  year_of_completion  transaction_year_month  \\\n",
       "233536               58.01                1988                  201605   \n",
       "309676               71.64                1988                  200908   \n",
       "799304               61.20                1994                  200803   \n",
       "834293               57.26                1987                  201503   \n",
       "656397               59.79                1997                  201202   \n",
       "\n",
       "       transaction_date  floor  \n",
       "233536            11~20      9  \n",
       "309676            21~31      9  \n",
       "799304             1~10      3  \n",
       "834293            11~20      5  \n",
       "656397            11~20     11  "
      ]
     },
     "execution_count": 12,
     "metadata": {},
     "output_type": "execute_result"
    }
   ],
   "source": [
    "whole_X.head()"
   ]
  },
  {
   "cell_type": "code",
   "execution_count": 13,
   "id": "7c934d9b-e2bd-43cc-8478-f26d251d4d7e",
   "metadata": {},
   "outputs": [
    {
     "data": {
      "text/html": [
       "<div>\n",
       "<style scoped>\n",
       "    .dataframe tbody tr th:only-of-type {\n",
       "        vertical-align: middle;\n",
       "    }\n",
       "\n",
       "    .dataframe tbody tr th {\n",
       "        vertical-align: top;\n",
       "    }\n",
       "\n",
       "    .dataframe thead th {\n",
       "        text-align: right;\n",
       "    }\n",
       "</style>\n",
       "<table border=\"1\" class=\"dataframe\">\n",
       "  <thead>\n",
       "    <tr style=\"text-align: right;\">\n",
       "      <th></th>\n",
       "      <th>apartment_id</th>\n",
       "      <th>exclusive_use_area</th>\n",
       "      <th>year_of_completion</th>\n",
       "      <th>transaction_year_month</th>\n",
       "      <th>floor</th>\n",
       "    </tr>\n",
       "  </thead>\n",
       "  <tbody>\n",
       "    <tr>\n",
       "      <th>count</th>\n",
       "      <td>128919.000000</td>\n",
       "      <td>128919.000000</td>\n",
       "      <td>128919.000000</td>\n",
       "      <td>128919.000000</td>\n",
       "      <td>128919.000000</td>\n",
       "    </tr>\n",
       "    <tr>\n",
       "      <th>mean</th>\n",
       "      <td>6302.792063</td>\n",
       "      <td>78.257199</td>\n",
       "      <td>1998.405797</td>\n",
       "      <td>201316.686850</td>\n",
       "      <td>9.291927</td>\n",
       "    </tr>\n",
       "    <tr>\n",
       "      <th>std</th>\n",
       "      <td>3573.166050</td>\n",
       "      <td>29.468481</td>\n",
       "      <td>9.009649</td>\n",
       "      <td>296.146901</td>\n",
       "      <td>6.564141</td>\n",
       "    </tr>\n",
       "    <tr>\n",
       "      <th>min</th>\n",
       "      <td>2.000000</td>\n",
       "      <td>10.321500</td>\n",
       "      <td>1961.000000</td>\n",
       "      <td>200801.000000</td>\n",
       "      <td>-2.000000</td>\n",
       "    </tr>\n",
       "    <tr>\n",
       "      <th>25%</th>\n",
       "      <td>3351.000000</td>\n",
       "      <td>59.760000</td>\n",
       "      <td>1993.000000</td>\n",
       "      <td>201011.000000</td>\n",
       "      <td>4.000000</td>\n",
       "    </tr>\n",
       "    <tr>\n",
       "      <th>50%</th>\n",
       "      <td>5962.000000</td>\n",
       "      <td>82.301900</td>\n",
       "      <td>1999.000000</td>\n",
       "      <td>201403.000000</td>\n",
       "      <td>8.000000</td>\n",
       "    </tr>\n",
       "    <tr>\n",
       "      <th>75%</th>\n",
       "      <td>9429.000000</td>\n",
       "      <td>84.970000</td>\n",
       "      <td>2005.000000</td>\n",
       "      <td>201603.000000</td>\n",
       "      <td>13.000000</td>\n",
       "    </tr>\n",
       "    <tr>\n",
       "      <th>max</th>\n",
       "      <td>12658.000000</td>\n",
       "      <td>273.860000</td>\n",
       "      <td>2017.000000</td>\n",
       "      <td>201712.000000</td>\n",
       "      <td>80.000000</td>\n",
       "    </tr>\n",
       "  </tbody>\n",
       "</table>\n",
       "</div>"
      ],
      "text/plain": [
       "        apartment_id  exclusive_use_area  year_of_completion  \\\n",
       "count  128919.000000       128919.000000       128919.000000   \n",
       "mean     6302.792063           78.257199         1998.405797   \n",
       "std      3573.166050           29.468481            9.009649   \n",
       "min         2.000000           10.321500         1961.000000   \n",
       "25%      3351.000000           59.760000         1993.000000   \n",
       "50%      5962.000000           82.301900         1999.000000   \n",
       "75%      9429.000000           84.970000         2005.000000   \n",
       "max     12658.000000          273.860000         2017.000000   \n",
       "\n",
       "       transaction_year_month          floor  \n",
       "count           128919.000000  128919.000000  \n",
       "mean            201316.686850       9.291927  \n",
       "std                296.146901       6.564141  \n",
       "min             200801.000000      -2.000000  \n",
       "25%             201011.000000       4.000000  \n",
       "50%             201403.000000       8.000000  \n",
       "75%             201603.000000      13.000000  \n",
       "max             201712.000000      80.000000  "
      ]
     },
     "execution_count": 13,
     "metadata": {},
     "output_type": "execute_result"
    }
   ],
   "source": [
    "whole_X.describe()"
   ]
  },
  {
   "cell_type": "code",
   "execution_count": 1,
   "id": "9775853d-df14-47ef-a5d7-6fe418daf36f",
   "metadata": {},
   "outputs": [
    {
     "ename": "NameError",
     "evalue": "name 'whole_X' is not defined",
     "output_type": "error",
     "traceback": [
      "\u001b[1;31m---------------------------------------------------------------------------\u001b[0m",
      "\u001b[1;31mNameError\u001b[0m                                 Traceback (most recent call last)",
      "Input \u001b[1;32mIn [1]\u001b[0m, in \u001b[0;36m<cell line: 1>\u001b[1;34m()\u001b[0m\n\u001b[1;32m----> 1\u001b[0m \u001b[43mwhole_X\u001b[49m\u001b[38;5;241m.\u001b[39minfo()\n",
      "\u001b[1;31mNameError\u001b[0m: name 'whole_X' is not defined"
     ]
    }
   ],
   "source": [
    "whole_X.info()"
   ]
  },
  {
   "cell_type": "markdown",
   "id": "b6ff0f74-1051-4aac-a3aa-b5ba9e087920",
   "metadata": {
    "tags": []
   },
   "source": [
    "# 3. 탐색적 자료 분석하기!"
   ]
  },
  {
   "cell_type": "code",
   "execution_count": 2,
   "id": "786e5082-d11f-496a-b655-cd1718b16d6b",
   "metadata": {},
   "outputs": [
    {
     "ename": "NameError",
     "evalue": "name 'whole_X' is not defined",
     "output_type": "error",
     "traceback": [
      "\u001b[1;31m---------------------------------------------------------------------------\u001b[0m",
      "\u001b[1;31mNameError\u001b[0m                                 Traceback (most recent call last)",
      "Input \u001b[1;32mIn [2]\u001b[0m, in \u001b[0;36m<cell line: 1>\u001b[1;34m()\u001b[0m\n\u001b[1;32m----> 1\u001b[0m \u001b[38;5;28mprint\u001b[39m(\u001b[43mwhole_X\u001b[49m\u001b[38;5;241m.\u001b[39mshape)\n\u001b[0;32m      2\u001b[0m whole_X \u001b[38;5;241m=\u001b[39m whole_X\u001b[38;5;241m.\u001b[39mdrop([\u001b[38;5;124m'\u001b[39m\u001b[38;5;124mjibun\u001b[39m\u001b[38;5;124m'\u001b[39m, \u001b[38;5;124m'\u001b[39m\u001b[38;5;124mapt\u001b[39m\u001b[38;5;124m'\u001b[39m, \u001b[38;5;124m'\u001b[39m\u001b[38;5;124maddr_kr\u001b[39m\u001b[38;5;124m'\u001b[39m, \u001b[38;5;124m'\u001b[39m\u001b[38;5;124mtransaction_date\u001b[39m\u001b[38;5;124m'\u001b[39m], axis\u001b[38;5;241m=\u001b[39m\u001b[38;5;241m1\u001b[39m)\n\u001b[0;32m      3\u001b[0m \u001b[38;5;28mprint\u001b[39m(whole_X\u001b[38;5;241m.\u001b[39mshape)\n",
      "\u001b[1;31mNameError\u001b[0m: name 'whole_X' is not defined"
     ]
    }
   ],
   "source": [
    "print(whole_X.shape)\n",
    "whole_X = whole_X.drop(['jibun', 'apt', 'addr_kr', 'transaction_date'], axis=1)\n",
    "print(whole_X.shape)"
   ]
  },
  {
   "cell_type": "code",
   "execution_count": null,
   "id": "e119c8d7-2031-4b58-85d0-63a5849dd77b",
   "metadata": {},
   "outputs": [],
   "source": [
    "whole_X.head()"
   ]
  },
  {
   "cell_type": "code",
   "execution_count": null,
   "id": "7ecb29e9-8ed6-4a4d-82ab-9e89acb46cf9",
   "metadata": {},
   "outputs": [],
   "source": [
    "print(whole_X.shape)\n",
    "whole_X = whole_X.drop(['year_of_completion', 'transaction_year_month'], axis=1)\n",
    "print(whole_X.shape)"
   ]
  },
  {
   "cell_type": "code",
   "execution_count": null,
   "id": "bc3db8f2-82e5-4a9f-9ec8-533a24635012",
   "metadata": {},
   "outputs": [],
   "source": [
    "train_dong = train_copy[['dong', 'transaction_real_price']].groupby('dong').mean().sort_values('transaction_real_price').reset_index()\n",
    "train_dong.head()"
   ]
  },
  {
   "cell_type": "code",
   "execution_count": null,
   "id": "583139ce-7c34-4ee4-8972-be900e4b8192",
   "metadata": {
    "tags": []
   },
   "outputs": [],
   "source": [
    "dong_num = {}\n",
    "for i in range(len(train_dong)):\n",
    "    dong = train_dong['dong'][i]\n",
    "    dong_num[dong] = i"
   ]
  },
  {
   "cell_type": "code",
   "execution_count": null,
   "id": "09f3ca66-5dd0-4a0b-89eb-9428fb906702",
   "metadata": {},
   "outputs": [],
   "source": [
    "whole_X = whole_X.replace({'dong': dong_num})\n",
    "whole_X.head()"
   ]
  },
  {
   "cell_type": "code",
   "execution_count": null,
   "id": "9bbd3f2b-3eb3-4037-8b55-917b0ea114ca",
   "metadata": {},
   "outputs": [],
   "source": []
  },
  {
   "cell_type": "code",
   "execution_count": null,
   "id": "50cf3ec2-648c-490a-93ae-01d682a8b7b2",
   "metadata": {},
   "outputs": [],
   "source": [
    "train_gu = train_copy[['gu', 'transaction_real_price']].groupby('gu').mean().sort_values('transaction_real_price').reset_index()\n",
    "train_gu.head()"
   ]
  },
  {
   "cell_type": "code",
   "execution_count": null,
   "id": "aa3b93d4-43ca-4f37-ab6f-c9d68eb0a679",
   "metadata": {
    "tags": []
   },
   "outputs": [],
   "source": [
    "gu_num = {}\n",
    "for i in range(len(train_gu)):\n",
    "    gu = train_gu['gu'][i]\n",
    "    gu_num[gu] = i"
   ]
  },
  {
   "cell_type": "code",
   "execution_count": 3,
   "id": "17d0010a-9193-4c90-8660-cc5930c062e0",
   "metadata": {},
   "outputs": [
    {
     "ename": "NameError",
     "evalue": "name 'whole_X' is not defined",
     "output_type": "error",
     "traceback": [
      "\u001b[1;31m---------------------------------------------------------------------------\u001b[0m",
      "\u001b[1;31mNameError\u001b[0m                                 Traceback (most recent call last)",
      "Input \u001b[1;32mIn [3]\u001b[0m, in \u001b[0;36m<cell line: 1>\u001b[1;34m()\u001b[0m\n\u001b[1;32m----> 1\u001b[0m whole_X \u001b[38;5;241m=\u001b[39m \u001b[43mwhole_X\u001b[49m\u001b[38;5;241m.\u001b[39mreplace({\u001b[38;5;124m'\u001b[39m\u001b[38;5;124mgu\u001b[39m\u001b[38;5;124m'\u001b[39m: gu_num})\n\u001b[0;32m      2\u001b[0m whole_X\u001b[38;5;241m.\u001b[39mhead()\n",
      "\u001b[1;31mNameError\u001b[0m: name 'whole_X' is not defined"
     ]
    }
   ],
   "source": [
    "whole_X = whole_X.replace({'gu': gu_num})\n",
    "whole_X.head()"
   ]
  },
  {
   "cell_type": "code",
   "execution_count": null,
   "id": "68ae5ace-7061-4f2c-977c-24d0d79dbdfc",
   "metadata": {},
   "outputs": [],
   "source": [
    "train_city = train_copy[['city', 'transaction_real_price']].groupby('city').mean().sort_values('transaction_real_price').reset_index()\n",
    "train_city.head()"
   ]
  },
  {
   "cell_type": "code",
   "execution_count": null,
   "id": "e12fdfac-b6e1-4377-8a2b-bb2dd95cbe03",
   "metadata": {
    "tags": []
   },
   "outputs": [],
   "source": [
    "city_num = {}\n",
    "for i in range(len(train_city)):\n",
    "    city = train_city['city'][i]\n",
    "    city_num[city] = i\n",
    "    \n",
    "city_num"
   ]
  },
  {
   "cell_type": "code",
   "execution_count": null,
   "id": "c2bfd707-7318-43bc-a7f4-8002892a5bf5",
   "metadata": {},
   "outputs": [],
   "source": [
    "whole_X = whole_X.replace({'city': city_num})\n",
    "whole_X.head()"
   ]
  },
  {
   "cell_type": "code",
   "execution_count": null,
   "id": "b8acc953-2a69-4739-b1bc-67ae10a3de41",
   "metadata": {},
   "outputs": [],
   "source": [
    "f, ax = plt.subplots(figsize=(12, 9))\n",
    "group = train.groupby(['floor']).mean()['transaction_real_price']\n",
    "sns.barplot(group.index, group)"
   ]
  },
  {
   "cell_type": "code",
   "execution_count": null,
   "id": "46302174-9071-4eb9-b803-b986df8cb6e7",
   "metadata": {},
   "outputs": [],
   "source": [
    "whole_X['floor'].describe()"
   ]
  },
  {
   "cell_type": "code",
   "execution_count": null,
   "id": "db3d84e7-fadd-4061-9fa9-95ba5d0810be",
   "metadata": {},
   "outputs": [],
   "source": [
    "whole_X['floor_group'] = pd.cut(whole_X['floor'], bins=[-5, 25, 49, 61, 75, 80], labels=[0, 1, 2, 3, 4]).astype(int)\n",
    "whole_X['floor_group'].head()"
   ]
  },
  {
   "cell_type": "code",
   "execution_count": null,
   "id": "6595c3d0-c7f6-4bb3-88ee-4885c6011c90",
   "metadata": {},
   "outputs": [],
   "source": [
    "print(whole_X.shape)\n",
    "whole_X = whole_X.drop('floor', axis=1)\n",
    "print(whole_X.shape)"
   ]
  },
  {
   "cell_type": "code",
   "execution_count": null,
   "id": "5fe03d55-a7f3-4d4d-b4a5-d77951825918",
   "metadata": {},
   "outputs": [],
   "source": [
    "train_apartment_id = train_copy[['apartment_id', 'transaction_real_price']].groupby('apartment_id').mean().sort_values('transaction_real_price').reset_index()\n",
    "train_apartment_id.head()"
   ]
  },
  {
   "cell_type": "code",
   "execution_count": null,
   "id": "96440834-685d-441f-b5a6-c6a90e617e63",
   "metadata": {
    "tags": []
   },
   "outputs": [],
   "source": [
    "apartment_id_num = {}\n",
    "for i in range(len(train_apartment_id)):\n",
    "    apartment_id = train_apartment_id['apartment_id'][i]\n",
    "    apartment_id_num[apartment_id] = i"
   ]
  },
  {
   "cell_type": "code",
   "execution_count": null,
   "id": "38ef3ee8-f505-4dd3-95f8-ad523d5536f7",
   "metadata": {
    "tags": []
   },
   "outputs": [],
   "source": [
    "apartment_id_num"
   ]
  },
  {
   "cell_type": "code",
   "execution_count": null,
   "id": "287a58bc-bceb-4bbf-ae35-c57e21316528",
   "metadata": {},
   "outputs": [],
   "source": []
  },
  {
   "cell_type": "code",
   "execution_count": null,
   "id": "01d58aa9-5517-4329-9322-e0ef04d667b4",
   "metadata": {},
   "outputs": [],
   "source": [
    "whole_X"
   ]
  },
  {
   "cell_type": "code",
   "execution_count": null,
   "id": "e0b5c943-ae2b-4acc-9314-4f17cfed2319",
   "metadata": {
    "tags": []
   },
   "outputs": [],
   "source": [
    "whole_X = whole_X.replace({'apartment_id': apartment_id_num})\n",
    "whole_X.head()"
   ]
  },
  {
   "cell_type": "code",
   "execution_count": null,
   "id": "35e1ed40-d725-46ed-8268-0bb21e495100",
   "metadata": {
    "tags": []
   },
   "outputs": [],
   "source": [
    "# fig, ax = plt.subplots(3, 2, figsize=(12, 18))\n",
    "\n",
    "# columns = whole_X.columns\n",
    "# count = 0\n",
    "# for row in range(3):\n",
    "#     for col in range(2):\n",
    "#         sns.kdeplot(data=whole_X[columns[count]], ax=ax[row][col])\n",
    "#         ax[row][col].set_title(columns[count], fontsize=15)\n",
    "#         count += 1\n",
    "#         if count == whole_X.shape[1]:\n",
    "#             break\n",
    "            \n",
    "# plt.show()"
   ]
  },
  {
   "cell_type": "code",
   "execution_count": null,
   "id": "5e1ffe73-2991-4e78-8147-237a537211af",
   "metadata": {},
   "outputs": [],
   "source": [
    "train_y.values"
   ]
  },
  {
   "cell_type": "code",
   "execution_count": null,
   "id": "d9032eb3-ef7b-4db0-8544-b0f3e47b28bd",
   "metadata": {
    "tags": []
   },
   "outputs": [],
   "source": [
    "train_temp = whole_X.iloc[:len(train), :]\n",
    "\n",
    "train_temp.loc[:, 'transaction_real_price'] = train_y.values\n",
    "train_temp.head()"
   ]
  },
  {
   "cell_type": "code",
   "execution_count": null,
   "id": "fbf1a360-d7c3-4aa3-bf1c-fb19a5d3e14f",
   "metadata": {},
   "outputs": [],
   "source": [
    "#상관관계 확인\n",
    "k = train_temp.shape[1] #히트맵 변수 갯수\n",
    "corr_mat = train_temp.corr() #변수간의 상관관계\n",
    "cols = corr_mat.nlargest(k, 'transaction_real_price')['transaction_real_price'].index #price기준으로 제일 큰순서대로 20개를 뽑아냄\n",
    "cm = np.corrcoef(train_temp[cols].values.T)\n",
    "\n",
    "f, ax = plt.subplots(figsize=(8, 6))\n",
    "sns.heatmap(data = cm, annot=True, square=True, fmt = '.2f', linewidths=.5, cmap='Reds', \n",
    "            yticklabels = cols.values, xticklabels = cols.values)"
   ]
  },
  {
   "cell_type": "code",
   "execution_count": null,
   "id": "331b0797-5da3-4688-86ee-e4cf483137d6",
   "metadata": {},
   "outputs": [],
   "source": [
    "whole_X"
   ]
  },
  {
   "cell_type": "code",
   "execution_count": null,
   "id": "e50a4dad-5133-4413-9f14-61bfab30f25c",
   "metadata": {},
   "outputs": [],
   "source": [
    "fig, ax = plt.subplots(2, 2, figsize=(12, 12))\n",
    "\n",
    "cols = ['apartment_id', 'dong', 'gu', 'city']\n",
    "count = 0\n",
    "for col in cols:\n",
    "    sns.barplot(x=whole_X.iloc[:len(train_X)][col], y=train_y, ax=ax[count // 2][count % 2], ci=None)\n",
    "    count += 1\n",
    "    if count == len(cols):\n",
    "        break\n",
    "            \n",
    "plt.show()"
   ]
  },
  {
   "cell_type": "code",
   "execution_count": null,
   "id": "f1fd333e-b10c-453a-975e-a6a4fe76b4c7",
   "metadata": {},
   "outputs": [],
   "source": [
    "skew_columns = ['apartment_id', 'exclusive_use_area']\n",
    "\n",
    "for column in skew_columns:\n",
    "    whole_X[column] = np.log1p(whole_X[column].values)"
   ]
  },
  {
   "cell_type": "code",
   "execution_count": null,
   "id": "b57329ae-1960-434a-be51-24b8097c0481",
   "metadata": {},
   "outputs": [],
   "source": [
    "sns.histplot(whole_X['apartment_id'])"
   ]
  },
  {
   "cell_type": "code",
   "execution_count": null,
   "id": "6476d0d1-cce0-44a7-8267-edb13607f6fc",
   "metadata": {},
   "outputs": [],
   "source": [
    "sns.histplot(whole_X['exclusive_use_area'])"
   ]
  },
  {
   "cell_type": "code",
   "execution_count": null,
   "id": "ee00ebee-d0d4-4d82-8edf-5d28c1d76573",
   "metadata": {},
   "outputs": [],
   "source": [
    "whole_X.columns"
   ]
  },
  {
   "cell_type": "code",
   "execution_count": null,
   "id": "b540b629-2022-4add-a611-f726783da072",
   "metadata": {},
   "outputs": [],
   "source": [
    "whole_X.info()"
   ]
  },
  {
   "cell_type": "code",
   "execution_count": null,
   "id": "c9b1e490-2d13-4fb3-9211-1175bf663205",
   "metadata": {},
   "outputs": [],
   "source": [
    "whole_X_onehot = pd.get_dummies(whole_X, columns=['city', 'gu', 'dong', 'floor_group'])"
   ]
  },
  {
   "cell_type": "code",
   "execution_count": null,
   "id": "7c02d0fd-25af-4cce-9eff-caf58b78d21c",
   "metadata": {},
   "outputs": [],
   "source": [
    "train_y.describe()"
   ]
  },
  {
   "cell_type": "code",
   "execution_count": null,
   "id": "2ac925c7-e261-4bb7-b5f3-9be88a7d8ddb",
   "metadata": {},
   "outputs": [],
   "source": [
    "f, ax = plt.subplots(figsize = (8,6))\n",
    "sns.histplot(train_y)\n",
    "print(\"%s -> Skewness: %f, Kurtosis: %f\" %  ('train_y', train_y.skew(), train_y.kurt()))"
   ]
  },
  {
   "cell_type": "code",
   "execution_count": 4,
   "id": "63716bfd-69fc-4b12-acc5-02fe3ddf50a8",
   "metadata": {},
   "outputs": [
    {
     "ename": "NameError",
     "evalue": "name 'np' is not defined",
     "output_type": "error",
     "traceback": [
      "\u001b[1;31m---------------------------------------------------------------------------\u001b[0m",
      "\u001b[1;31mNameError\u001b[0m                                 Traceback (most recent call last)",
      "Input \u001b[1;32mIn [4]\u001b[0m, in \u001b[0;36m<cell line: 1>\u001b[1;34m()\u001b[0m\n\u001b[1;32m----> 1\u001b[0m train_y \u001b[38;5;241m=\u001b[39m \u001b[43mnp\u001b[49m\u001b[38;5;241m.\u001b[39mlog1p(train_y)\n\u001b[0;32m      2\u001b[0m \u001b[38;5;28mprint\u001b[39m(\u001b[38;5;124m\"\u001b[39m\u001b[38;5;132;01m%s\u001b[39;00m\u001b[38;5;124m -> Skewness: \u001b[39m\u001b[38;5;132;01m%f\u001b[39;00m\u001b[38;5;124m, Kurtosis: \u001b[39m\u001b[38;5;132;01m%f\u001b[39;00m\u001b[38;5;124m\"\u001b[39m \u001b[38;5;241m%\u001b[39m  (\u001b[38;5;124m'\u001b[39m\u001b[38;5;124mtrain_y\u001b[39m\u001b[38;5;124m'\u001b[39m, train_y\u001b[38;5;241m.\u001b[39mskew(), train_y\u001b[38;5;241m.\u001b[39mkurt()))\n",
      "\u001b[1;31mNameError\u001b[0m: name 'np' is not defined"
     ]
    }
   ],
   "source": [
    "train_y = np.log1p(train_y)\n",
    "print(\"%s -> Skewness: %f, Kurtosis: %f\" %  ('train_y', train_y.skew(), train_y.kurt()))"
   ]
  },
  {
   "cell_type": "code",
   "execution_count": null,
   "id": "3319c70c-8802-44cc-865d-9d05fa3d794d",
   "metadata": {},
   "outputs": [],
   "source": [
    "f, ax = plt.subplots(figsize = (8,6))\n",
    "sns.histplot(train_y)"
   ]
  },
  {
   "cell_type": "code",
   "execution_count": null,
   "id": "a02fcec8-fec8-42b7-a28b-83fdf59e598b",
   "metadata": {
    "tags": []
   },
   "outputs": [],
   "source": [
    "train_X = whole_X_onehot.iloc[:len(train), :]\n",
    "test_X = whole_X_onehot.iloc[len(train):, :]\n",
    "\n",
    "print(train_X.shape)\n",
    "print(test_X.shape)"
   ]
  },
  {
   "cell_type": "code",
   "execution_count": null,
   "id": "91ddd604-08b5-4f54-b384-be170436ebe3",
   "metadata": {
    "tags": []
   },
   "outputs": [],
   "source": [
    "train_X.head()"
   ]
  },
  {
   "cell_type": "code",
   "execution_count": null,
   "id": "d259c069-c62d-4ac6-ad7f-02d13cc65dad",
   "metadata": {},
   "outputs": [],
   "source": [
    "def my_GridSearch(model, train_X, train_y, param_grid, verbose=2, n_jobs=7):\n",
    "    grid_model = GridSearchCV(model, param_grid=param_grid, scoring='neg_mean_squared_error', \\\n",
    "                              cv=5, verbose=verbose, n_jobs=n_jobs)\n",
    "\n",
    "    # 모델 fitting\n",
    "    grid_model.fit(train_X, train_y)\n",
    "\n",
    "    # 퍙기 결과 저장\n",
    "    params = grid_model.cv_results_['params']\n",
    "    score = grid_model.cv_results_['mean_test_score']\n",
    "\n",
    "    # 평가 결과를 담을 데이터 프레임 생성\n",
    "    results = pd.DataFrame(params)\n",
    "    results['score'] = score\n",
    "\n",
    "    # RMSLE 값 계산 후 정렬\n",
    "    results['RMSLE'] = np.sqrt(-results['score'])\n",
    "    results = results.sort_values('RMSLE')\n",
    "\n",
    "    return results"
   ]
  },
  {
   "cell_type": "code",
   "execution_count": null,
   "id": "f50b964e-1214-4cd9-8634-0d2674711a5c",
   "metadata": {},
   "outputs": [],
   "source": [
    "random_state = 9"
   ]
  },
  {
   "cell_type": "code",
   "execution_count": null,
   "id": "30166190-0c7f-415b-bb77-39c3fbb5583d",
   "metadata": {},
   "outputs": [],
   "source": [
    "# n_estimators, max_depth, min_child_samples, num_leaves, boosting"
   ]
  },
  {
   "cell_type": "code",
   "execution_count": null,
   "id": "ca08b7ef-0d4d-4f64-ab5f-ef3cc2e62cff",
   "metadata": {
    "tags": []
   },
   "outputs": [],
   "source": [
    "model = LGBMRegressor(random_state=random_state)\n",
    "\n",
    "param_grid = {\n",
    "    'n_estimators': [2400], # 2500\n",
    "    'max_depth': [20], # 19\n",
    "    'num_leaves': [34], # 35\n",
    "    'min_child_samples': [16], # 18\n",
    "}\n",
    "my_GridSearch(model, train_X, train_y, param_grid, verbose=2, n_jobs=7)"
   ]
  },
  {
   "cell_type": "code",
   "execution_count": null,
   "id": "fcb9991f-c193-4226-9eaf-6fb054f35084",
   "metadata": {},
   "outputs": [],
   "source": [
    "def tsize(train_X): # 지극히 주관적인 적당한 test size 값 찾는 함수\n",
    "    length = len(train_X)\n",
    "    return round(0.14 * (1 + length / 10 ** 4) ** (10 ** 4 / length) - 0.13, 2)"
   ]
  },
  {
   "cell_type": "code",
   "execution_count": null,
   "id": "6a4647e4-edb8-44de-917b-fda4d3add284",
   "metadata": {},
   "outputs": [],
   "source": [
    "def rmse(y_test, y_pred): # RMSE 손실 함수\n",
    "    # 로그를 씌웠던 레이블에 다시 지수를 씌워서 스케일을 원상복구하고 평가하기\n",
    "    return np.sqrt(mean_squared_error(np.expm1(y_test), np.expm1(y_pred)))"
   ]
  },
  {
   "cell_type": "code",
   "execution_count": null,
   "id": "f3235d49-54f3-4678-a313-6e3e84c46032",
   "metadata": {
    "tags": []
   },
   "outputs": [],
   "source": [
    "def get_scores(models, train_X, train_y):\n",
    "    scores = {}\n",
    "    \n",
    "    for model in models:\n",
    "        model_name = model.__class__.__name__\n",
    "        \n",
    "        X_train, X_test, y_train, y_test = train_test_split(train_X, train_y, random_state=random_state, test_size=tsize(train_X))\n",
    "        \n",
    "        scaler = RobustScaler() # 표준화 스케일러\n",
    "        X_train = scaler.fit_transform(X_train) # X_train 데이터를 fit과 동시에 transform\n",
    "        X_test = scaler.transform(X_test) # X_test 데이터를 transform\n",
    "        \n",
    "        model.fit(X_train, y_train)\n",
    "        y_pred = model.predict(X_test)\n",
    "        \n",
    "        scores[model_name] = rmse(y_test, y_pred) # 모델 별 RMSE 값 계산\n",
    "        scores_df = pd.DataFrame(scores, index=['RMSE']).T.sort_values('RMSE', ascending=False)\n",
    "\n",
    "    return scores_df"
   ]
  },
  {
   "cell_type": "code",
   "execution_count": null,
   "id": "0c19def7-e300-4113-86d1-6ecc22e4bfa1",
   "metadata": {},
   "outputs": [],
   "source": [
    "print(train_X.shape, train_y.shape, test_X.shape)"
   ]
  },
  {
   "cell_type": "code",
   "execution_count": null,
   "id": "3f344b7a-a295-411b-80e1-bbc80fabd202",
   "metadata": {},
   "outputs": [],
   "source": []
  },
  {
   "cell_type": "code",
   "execution_count": null,
   "id": "9521ea33-ae02-489b-83c9-e1d8a94dd64d",
   "metadata": {},
   "outputs": [],
   "source": [
    "def save_submission(last_model, train_X, train_y, test_X, n):\n",
    "    model_name = last_model.__class__.__name__\n",
    "    last_model.fit(train_X, train_y)\n",
    "    test_y = last_model.predict(test_X)\n",
    "    test_y = np.expm1(test_y) # 스케일 원상복구\n",
    "    data_dir = os.getenv('USERPROFILE')+'\\OneDrive - 수원대학교\\Office\\AIFFEL\\Workspace\\Project\\Datathon\\data'\n",
    "    # data_dir = '/content/drive/MyDrive/AIFFEL/Workspace/Project/Datathon/data'\n",
    "    submission_path = join(data_dir, 'submission.csv')\n",
    "    submission = pd.read_csv(submission_path)\n",
    "    submission['transaction_real_price'] = test_y\n",
    "\n",
    "    submission_csv_path = '{}\\submission_{}.csv'.format(data_dir, n)\n",
    "    # submission_csv_path = '{}/submission_{}.csv'.format(data_dir, n)\n",
    "    submission.to_csv(submission_csv_path, index=False)\n",
    "    print('{} saved!'.format(submission_csv_path))"
   ]
  },
  {
   "cell_type": "code",
   "execution_count": null,
   "id": "db3af398-be23-4c71-b5c5-3f633b813a82",
   "metadata": {},
   "outputs": [],
   "source": [
    "last_model = LGBMRegressor(max_depth=20, n_estimators=2400, min_child_samples=16, num_leaves=34)"
   ]
  },
  {
   "cell_type": "code",
   "execution_count": null,
   "id": "c08b78f2-4aec-483a-8094-ecf0e3843fa1",
   "metadata": {},
   "outputs": [],
   "source": [
    "save_submission(last_model, train_X, train_y, test_X)"
   ]
  },
  {
   "cell_type": "code",
   "execution_count": null,
   "id": "4078f89f-4d2d-44ff-91a9-dae51b980e0e",
   "metadata": {},
   "outputs": [],
   "source": []
  }
 ],
 "metadata": {
  "kernelspec": {
   "display_name": "Python 3 (ipykernel)",
   "language": "python",
   "name": "python3"
  },
  "language_info": {
   "codemirror_mode": {
    "name": "ipython",
    "version": 3
   },
   "file_extension": ".py",
   "mimetype": "text/x-python",
   "name": "python",
   "nbconvert_exporter": "python",
   "pygments_lexer": "ipython3",
   "version": "3.9.13"
  }
 },
 "nbformat": 4,
 "nbformat_minor": 5
}
